{
 "cells": [
  {
   "cell_type": "markdown",
   "id": "24185796-fc0a-48f2-aa52-26b2d1deb53e",
   "metadata": {},
   "source": [
    "```\n",
    "Expression: 4xy + 2z^2 + 3y\n",
    "Input:\n",
    "    1\n",
    "    5\n",
    "    6\n",
    "Output:\n",
    "    Entered numbers are: 1,5,6\n",
    "    Given expression 4xy + 2z^2 + 3y is: ?\n",
    "``` "
   ]
  },
  {
   "cell_type": "code",
   "execution_count": 3,
   "id": "6e27a97c-9c5c-4197-9679-bb78037ec78a",
   "metadata": {},
   "outputs": [
    {
     "name": "stdin",
     "output_type": "stream",
     "text": [
      " 8\n",
      " 6\n",
      " 4\n"
     ]
    },
    {
     "name": "stdout",
     "output_type": "stream",
     "text": [
      " Entered numbers are:8,6,4\n",
      "Given expression 4xy+2z^2+3y is:242\n"
     ]
    }
   ],
   "source": [
    "x=int(input())\n",
    "y=int(input())\n",
    "z=int(input())\n",
    "result=4*x*y+2*(z**2)+3*y\n",
    "print(f\" Entered numbers are:{x},{y},{z}\")\n",
    "print(f\"Given expression 4xy+2z^2+3y is:{result}\")"
   ]
  },
  {
   "cell_type": "markdown",
   "id": "30694fb5-5b62-4698-aff0-d5a5e38eb6ee",
   "metadata": {},
   "source": [
    "```\n",
    "Department to be fixed: CSE\n",
    "Input-1:\n",
    "    Enter a name: Prasad\n",
    "    Enter branch: ECE\n",
    "Output-1:\n",
    "    Branch doesnt match to CSE\n",
    "\n",
    "Input-2:\n",
    "    Enter a name: Lavanya\n",
    "    Enter branch: CSE\n",
    "Output-2:\n",
    "    Entered name is: Lavanya\n",
    "```"
   ]
  },
  {
   "cell_type": "code",
   "execution_count": 6,
   "id": "59b9baf3-95b2-4ed1-9515-6c242b6e7115",
   "metadata": {},
   "outputs": [
    {
     "name": "stdin",
     "output_type": "stream",
     "text": [
      "Enter a name:  Seetha\n",
      "Enter branch:  CSE\n"
     ]
    },
    {
     "name": "stdout",
     "output_type": "stream",
     "text": [
      "Entered name is: Seetha\n"
     ]
    }
   ],
   "source": [
    "a=input(\"Enter a name: \")\n",
    "b=input(\"Enter branch: \")\n",
    "if (b == \"CSE\" ):\n",
    "    print(f\"Entered name is: {a}\")\n",
    "else:\n",
    "    print(\"Branch doesnt match to CSE\")\n"
   ]
  },
  {
   "cell_type": "markdown",
   "id": "4ed1a889-3077-40ec-9a64-a5e8d68eabb6",
   "metadata": {},
   "source": [
    "```\n",
    "Input-1:\n",
    "    5\n",
    "Output-2:\n",
    "    Given number 5 is not divisible by 3\n",
    "\n",
    "Input-2:\n",
    "    9\n",
    "    Enter base value: ?\n",
    "    Enter power value: ?\n",
    "Output-2:\n",
    "    Entered base value is: ?\n",
    "    Entered power value is: ?\n",
    "    Base ? and power of ? is: ?\n",
    "```"
   ]
  },
  {
   "cell_type": "code",
   "execution_count": 10,
   "id": "bf3fc8fd-ed08-44f4-aaf5-1ddd6f4f9433",
   "metadata": {},
   "outputs": [
    {
     "name": "stdin",
     "output_type": "stream",
     "text": [
      " 90\n",
      "Enter base value: 4\n",
      "Enter power value: 5\n"
     ]
    },
    {
     "name": "stdout",
     "output_type": "stream",
     "text": [
      "Entered base value is:4\n",
      "Entered power value is:5\n",
      "base 4 and power of 5 is:1024\n"
     ]
    }
   ],
   "source": [
    "num=int(input())\n",
    "if (num%2 == 0):\n",
    "    print(f\"Entered number {num} is even\")\n",
    "elif num%3 == 0 :\n",
    "    base=int(input(\"Enter base value:\"))\n",
    "    power=int(input(\"Enter power value:\"))\n",
    "    print(f\"Entered base value is:{base}\")\n",
    "    print(f\"Entered power value is:{power}\")\n",
    "    print(f\"base {base} and power of {power} is:{base**power}\")\n",
    "else:\n",
    "    print(f\"Given number {num} is not divisible by 3\")"
   ]
  },
  {
   "cell_type": "code",
   "execution_count": 15,
   "id": "546e36a9-c4d5-4cb9-a60a-3f0f4ec0b43f",
   "metadata": {},
   "outputs": [
    {
     "name": "stdin",
     "output_type": "stream",
     "text": [
      "Enter a range:  6\n"
     ]
    },
    {
     "name": "stdout",
     "output_type": "stream",
     "text": [
      "0 1 2 3 4 5 "
     ]
    }
   ],
   "source": [
    "g = int(input(\"Enter a range: \"))\n",
    "for i in range(g):\n",
    "    print(i,end=\" \")"
   ]
  },
  {
   "cell_type": "code",
   "execution_count": 16,
   "id": "84138032-4e6b-4961-a816-34666765294c",
   "metadata": {},
   "outputs": [
    {
     "name": "stdin",
     "output_type": "stream",
     "text": [
      "Enter a range:  6\n"
     ]
    },
    {
     "name": "stdout",
     "output_type": "stream",
     "text": [
      "5 4 3 2 1 0 "
     ]
    }
   ],
   "source": [
    "g = int(input(\"Enter a range: \"))\n",
    "for i in range(g):\n",
    "    print(g-i-1,end=\" \")"
   ]
  },
  {
   "cell_type": "code",
   "execution_count": 17,
   "id": "af9ded4d-d5f3-46cc-9003-9dec6152fb53",
   "metadata": {},
   "outputs": [
    {
     "name": "stdin",
     "output_type": "stream",
     "text": [
      "Enter start range:  10\n",
      "Enter end range:  20\n"
     ]
    },
    {
     "name": "stdout",
     "output_type": "stream",
     "text": [
      "10 11 12 13 14 15 16 17 18 19 "
     ]
    }
   ],
   "source": [
    "n = int(input(\"Enter start range: \"))\n",
    "m = int(input(\"Enter end range: \"))\n",
    "for j in range(n,m):\n",
    "    print(j,end=\" \")"
   ]
  },
  {
   "cell_type": "code",
   "execution_count": 19,
   "id": "c0e9dd4b-486b-42fb-825a-d0939e601ad1",
   "metadata": {},
   "outputs": [
    {
     "name": "stdin",
     "output_type": "stream",
     "text": [
      " 20\n",
      " 30\n"
     ]
    },
    {
     "name": "stdout",
     "output_type": "stream",
     "text": [
      "29 28 27 26 25 24 23 22 21 20 "
     ]
    }
   ],
   "source": [
    "p = int(input())\n",
    "k = int(input())\n",
    "for i in range(p,k):\n",
    "    print(p+k-i-1,end=\" \")"
   ]
  },
  {
   "cell_type": "markdown",
   "id": "2db614ad-a958-4bf4-b9ca-b3d97e722b3d",
   "metadata": {},
   "source": [
    "```\n",
    "Input:\n",
    "    2\n",
    "    5\n",
    "    4\n",
    "Output:\n",
    "    No\n",
    "    Even\n",
    "```"
   ]
  },
  {
   "cell_type": "code",
   "execution_count": 21,
   "id": "8cb4f122-4ee3-4b41-bde8-b095932b1ec7",
   "metadata": {},
   "outputs": [
    {
     "name": "stdin",
     "output_type": "stream",
     "text": [
      " 2\n",
      " 5\n"
     ]
    },
    {
     "name": "stdout",
     "output_type": "stream",
     "text": [
      "No\n"
     ]
    },
    {
     "name": "stdin",
     "output_type": "stream",
     "text": [
      " 8\n"
     ]
    },
    {
     "name": "stdout",
     "output_type": "stream",
     "text": [
      "Even\n"
     ]
    }
   ],
   "source": [
    "a = int(input())\n",
    "for i in range(a):\n",
    "    b = int(input())\n",
    "    if b%2 == 0:\n",
    "        print(\"Even\")\n",
    "    else:\n",
    "        print(\"No\")\n",
    "        "
   ]
  },
  {
   "cell_type": "code",
   "execution_count": 22,
   "id": "e3a08440-071a-44eb-817f-50b6bd9c5429",
   "metadata": {},
   "outputs": [
    {
     "name": "stdin",
     "output_type": "stream",
     "text": [
      "Enter start range:  10\n",
      "Enter end range:  20\n",
      "Enter step value:  3\n"
     ]
    },
    {
     "name": "stdout",
     "output_type": "stream",
     "text": [
      "10 13 16 19 "
     ]
    }
   ],
   "source": [
    "n = int(input(\"Enter start range: \"))\n",
    "k = int(input(\"Enter end range: \"))\n",
    "s = int(input(\"Enter step value: \"))\n",
    "for i in range(n,k,s):\n",
    "    print(i,end=\" \")"
   ]
  },
  {
   "cell_type": "code",
   "execution_count": 24,
   "id": "c8cb5f9c-ee16-4dd0-a89f-6f7529d19f6b",
   "metadata": {},
   "outputs": [
    {
     "name": "stdin",
     "output_type": "stream",
     "text": [
      " 10\n"
     ]
    },
    {
     "name": "stdout",
     "output_type": "stream",
     "text": [
      "0 1 2 3 4 5 6 7 8 9 "
     ]
    }
   ],
   "source": [
    "y = 0\n",
    "b = int(input())\n",
    "while y!=b:\n",
    "    print(y,end=\" \")\n",
    "    y +=1"
   ]
  },
  {
   "cell_type": "code",
   "execution_count": 25,
   "id": "c4348a85-9f60-4159-ad71-eca2f63285e7",
   "metadata": {},
   "outputs": [
    {
     "name": "stdin",
     "output_type": "stream",
     "text": [
      " 10\n"
     ]
    },
    {
     "name": "stdout",
     "output_type": "stream",
     "text": [
      "0 1 2 3 4 6 7 8 9 "
     ]
    }
   ],
   "source": [
    "n = int(input())\n",
    "for i in range(n):\n",
    "    if i == 5:\n",
    "        continue\n",
    "    print(i,end=\" \")"
   ]
  },
  {
   "cell_type": "code",
   "execution_count": 27,
   "id": "65ae3f2d-e83b-4d19-bbe7-7ae6b228ed6e",
   "metadata": {},
   "outputs": [
    {
     "name": "stdin",
     "output_type": "stream",
     "text": [
      " 100\n"
     ]
    },
    {
     "name": "stdout",
     "output_type": "stream",
     "text": [
      "0 1 2 3 4 "
     ]
    }
   ],
   "source": [
    "n = int(input())\n",
    "for i in range(n):\n",
    "    if i == 5:\n",
    "        break\n",
    "    print(i,end=\" \")"
   ]
  },
  {
   "cell_type": "code",
   "execution_count": 28,
   "id": "e8ffcd42-75d3-4ef9-b009-44e983a48923",
   "metadata": {},
   "outputs": [
    {
     "name": "stdin",
     "output_type": "stream",
     "text": [
      " 10\n"
     ]
    },
    {
     "name": "stdout",
     "output_type": "stream",
     "text": [
      "0 1 2 3 4 5 6 7 8 9 "
     ]
    }
   ],
   "source": [
    "n = int(input())\n",
    "for i in range(n):\n",
    "    if i == 5:\n",
    "        pass\n",
    "    print(i,end=\" \")"
   ]
  },
  {
   "cell_type": "code",
   "execution_count": 30,
   "id": "4fba1a57-29c9-4e28-bf19-91af2c31e3df",
   "metadata": {},
   "outputs": [
    {
     "name": "stdout",
     "output_type": "stream",
     "text": [
      "1.Read a name\n",
      "2.Read a branch\n",
      "3.Check Even or not\n",
      "4.Muliplication table\n",
      "0.Exit\n"
     ]
    },
    {
     "name": "stdin",
     "output_type": "stream",
     "text": [
      "Enter Your Choice:  5\n"
     ]
    },
    {
     "name": "stdout",
     "output_type": "stream",
     "text": [
      "Enter valid option... Try again.\n",
      "1.Read a name\n",
      "2.Read a branch\n",
      "3.Check Even or not\n",
      "4.Muliplication table\n",
      "0.Exit\n"
     ]
    },
    {
     "name": "stdin",
     "output_type": "stream",
     "text": [
      "Enter Your Choice:  2\n",
      "Enter a branch:  CSE\n"
     ]
    },
    {
     "name": "stdout",
     "output_type": "stream",
     "text": [
      "Entered branch is: CSE\n",
      "1.Read a name\n",
      "2.Read a branch\n",
      "3.Check Even or not\n",
      "4.Muliplication table\n",
      "0.Exit\n"
     ]
    },
    {
     "name": "stdin",
     "output_type": "stream",
     "text": [
      "Enter Your Choice:  2\n",
      "Enter a branch:  ECE\n"
     ]
    },
    {
     "name": "stdout",
     "output_type": "stream",
     "text": [
      "Entered branch is: ECE\n",
      "1.Read a name\n",
      "2.Read a branch\n",
      "3.Check Even or not\n",
      "4.Muliplication table\n",
      "0.Exit\n"
     ]
    },
    {
     "name": "stdin",
     "output_type": "stream",
     "text": [
      "Enter Your Choice:  1\n",
      "Enter a name:  Prasad\n"
     ]
    },
    {
     "name": "stdout",
     "output_type": "stream",
     "text": [
      "Entered name is: Prasad\n",
      "1.Read a name\n",
      "2.Read a branch\n",
      "3.Check Even or not\n",
      "4.Muliplication table\n",
      "0.Exit\n"
     ]
    },
    {
     "name": "stdin",
     "output_type": "stream",
     "text": [
      "Enter Your Choice:  4\n",
      "Enter a table number:  5\n"
     ]
    },
    {
     "name": "stdout",
     "output_type": "stream",
     "text": [
      "5 X 1 = 5\n",
      "5 X 2 = 10\n",
      "5 X 3 = 15\n",
      "5 X 4 = 20\n",
      "5 X 5 = 25\n",
      "5 X 6 = 30\n",
      "5 X 7 = 35\n",
      "5 X 8 = 40\n",
      "5 X 9 = 45\n",
      "5 X 10 = 50\n",
      "1.Read a name\n",
      "2.Read a branch\n",
      "3.Check Even or not\n",
      "4.Muliplication table\n",
      "0.Exit\n"
     ]
    },
    {
     "name": "stdin",
     "output_type": "stream",
     "text": [
      "Enter Your Choice:  3\n",
      "Enter a number:  5\n"
     ]
    },
    {
     "name": "stdout",
     "output_type": "stream",
     "text": [
      "Entered number 5 is: Odd\n",
      "1.Read a name\n",
      "2.Read a branch\n",
      "3.Check Even or not\n",
      "4.Muliplication table\n",
      "0.Exit\n"
     ]
    },
    {
     "name": "stdin",
     "output_type": "stream",
     "text": [
      "Enter Your Choice:  0\n"
     ]
    },
    {
     "name": "stdout",
     "output_type": "stream",
     "text": [
      "Thanks for visit...\n"
     ]
    }
   ],
   "source": [
    "while True:\n",
    "    print(\"1.Read a name\\n2.Read a branch\\n3.Check Even or not\\n\"\n",
    "    \"4.Muliplication table\\n0.Exit\")\n",
    "    p = int(input(\"Enter Your Choice: \"))\n",
    "    if p == 1:\n",
    "        k = input(\"Enter a name: \")\n",
    "        print(f\"Entered name is: {k}\")\n",
    "    elif p == 0:\n",
    "        print(\"Thanks for visit...\")\n",
    "        break\n",
    "    elif p == 2:\n",
    "        y = input(\"Enter a branch: \")\n",
    "        print(f\"Entered branch is: {y}\")\n",
    "    elif p == 4:\n",
    "        g = int(input(\"Enter a table number: \"))\n",
    "        for i in range(1,11):\n",
    "            print(f\"{g} X {i} = {g*i}\")\n",
    "    elif p == 3:\n",
    "        z = int(input(\"Enter a number: \"))\n",
    "        if z%2 == 0:\n",
    "            print(f\"Entered number {z} is: Even\")\n",
    "        else:\n",
    "            print(f\"Entered number {z} is: Odd\")\n",
    "    else:\n",
    "        print(\"Enter valid option... Try again.\")\n",
    "    \n",
    "    "
   ]
  },
  {
   "cell_type": "code",
   "execution_count": 39,
   "id": "7b2c965e-876f-45cf-99d1-0ff29203fbe7",
   "metadata": {},
   "outputs": [
    {
     "name": "stdin",
     "output_type": "stream",
     "text": [
      " 5\n"
     ]
    },
    {
     "name": "stdout",
     "output_type": "stream",
     "text": [
      "* * * * * \n",
      "* 0 0 0 * \n",
      "* 0 0 0 * \n",
      "* 0 0 0 * \n",
      "* * * * * \n"
     ]
    }
   ],
   "source": [
    "n = int(input())\n",
    "for i in range(n):\n",
    "    for j in range(n):\n",
    "        if (i == 0 or i == n-1) or (j == 0 or j == n-1):\n",
    "            print(\"*\",end=\" \")\n",
    "        else:\n",
    "            print(\"0\",end=\" \")\n",
    "    print()"
   ]
  },
  {
   "cell_type": "code",
   "execution_count": null,
   "id": "8ff8c972-0761-4d4e-8e21-82a9b423d92e",
   "metadata": {},
   "outputs": [],
   "source": [
    "12345\n",
    "\n",
    "54321\n"
   ]
  },
  {
   "cell_type": "code",
   "execution_count": null,
   "id": "53912829-90a9-4f09-8893-7b3227d14ae3",
   "metadata": {},
   "outputs": [],
   "source": [
    "45789\n",
    "\n",
    "54789\n"
   ]
  },
  {
   "cell_type": "code",
   "execution_count": null,
   "id": "c5550d67-3996-4c2a-9f9e-6560085e235a",
   "metadata": {},
   "outputs": [],
   "source": [
    "4768\n",
    "\n",
    "7468"
   ]
  }
 ],
 "metadata": {
  "kernelspec": {
   "display_name": "Python 3 (ipykernel)",
   "language": "python",
   "name": "python3"
  },
  "language_info": {
   "codemirror_mode": {
    "name": "ipython",
    "version": 3
   },
   "file_extension": ".py",
   "mimetype": "text/x-python",
   "name": "python",
   "nbconvert_exporter": "python",
   "pygments_lexer": "ipython3",
   "version": "3.9.6"
  }
 },
 "nbformat": 4,
 "nbformat_minor": 5
}
