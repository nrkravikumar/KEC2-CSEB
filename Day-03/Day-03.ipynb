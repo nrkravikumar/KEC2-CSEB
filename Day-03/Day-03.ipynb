{
 "cells": [
  {
   "cell_type": "code",
   "execution_count": 2,
   "id": "fd4b78c0-51a1-48fc-9dc5-8dde1f1cba28",
   "metadata": {},
   "outputs": [],
   "source": [
    "import keyword"
   ]
  },
  {
   "cell_type": "code",
   "execution_count": 3,
   "id": "5bf95fb1-e268-471b-a8ca-f8f01c8f6737",
   "metadata": {},
   "outputs": [
    {
     "name": "stdout",
     "output_type": "stream",
     "text": [
      "['__all__', '__builtins__', '__cached__', '__doc__', '__file__', '__loader__', '__name__', '__package__', '__spec__', 'iskeyword', 'issoftkeyword', 'kwlist', 'softkwlist']\n"
     ]
    }
   ],
   "source": [
    "print(dir(keyword))"
   ]
  },
  {
   "cell_type": "code",
   "execution_count": 6,
   "id": "48f161ee-08ac-4353-8460-d03806973e04",
   "metadata": {},
   "outputs": [
    {
     "name": "stdout",
     "output_type": "stream",
     "text": [
      "['False', 'None', 'True', '__peg_parser__', 'and', 'as', 'assert', 'async', 'await', 'break', 'class', 'continue', 'def', 'del', 'elif', 'else', 'except', 'finally', 'for', 'from', 'global', 'if', 'import', 'in', 'is', 'lambda', 'nonlocal', 'not', 'or', 'pass', 'raise', 'return', 'try', 'while', 'with', 'yield']\n"
     ]
    }
   ],
   "source": [
    "print(keyword.kwlist)"
   ]
  },
  {
   "cell_type": "code",
   "execution_count": 7,
   "id": "8280d5a3-08d7-4d9e-a7a6-3f0f39aaf878",
   "metadata": {},
   "outputs": [
    {
     "name": "stdout",
     "output_type": "stream",
     "text": [
      "36\n"
     ]
    }
   ],
   "source": [
    "print(len(keyword.kwlist))"
   ]
  },
  {
   "cell_type": "code",
   "execution_count": 8,
   "id": "983d06fd-46b0-4756-ab6c-a6c229cbc874",
   "metadata": {},
   "outputs": [
    {
     "name": "stdout",
     "output_type": "stream",
     "text": [
      "['__abs__', '__add__', '__and__', '__bool__', '__ceil__', '__class__', '__delattr__', '__dir__', '__divmod__', '__doc__', '__eq__', '__float__', '__floor__', '__floordiv__', '__format__', '__ge__', '__getattribute__', '__getnewargs__', '__gt__', '__hash__', '__index__', '__init__', '__init_subclass__', '__int__', '__invert__', '__le__', '__lshift__', '__lt__', '__mod__', '__mul__', '__ne__', '__neg__', '__new__', '__or__', '__pos__', '__pow__', '__radd__', '__rand__', '__rdivmod__', '__reduce__', '__reduce_ex__', '__repr__', '__rfloordiv__', '__rlshift__', '__rmod__', '__rmul__', '__ror__', '__round__', '__rpow__', '__rrshift__', '__rshift__', '__rsub__', '__rtruediv__', '__rxor__', '__setattr__', '__sizeof__', '__str__', '__sub__', '__subclasshook__', '__truediv__', '__trunc__', '__xor__', 'as_integer_ratio', 'bit_length', 'conjugate', 'denominator', 'from_bytes', 'imag', 'numerator', 'real', 'to_bytes']\n"
     ]
    }
   ],
   "source": [
    "print(dir(int))"
   ]
  },
  {
   "cell_type": "code",
   "execution_count": 9,
   "id": "1769b545-0ef3-4e13-889c-dfea782c3dfa",
   "metadata": {},
   "outputs": [
    {
     "name": "stdout",
     "output_type": "stream",
     "text": [
      "10 <class 'int'>\n"
     ]
    }
   ],
   "source": [
    "a = 10\n",
    "print(a,type(a))"
   ]
  },
  {
   "cell_type": "code",
   "execution_count": 10,
   "id": "43e5df53-2b77-4e3f-a03d-0ee49f9ea3f6",
   "metadata": {},
   "outputs": [
    {
     "name": "stdout",
     "output_type": "stream",
     "text": [
      "['__abs__', '__add__', '__bool__', '__ceil__', '__class__', '__delattr__', '__dir__', '__divmod__', '__doc__', '__eq__', '__float__', '__floor__', '__floordiv__', '__format__', '__ge__', '__getattribute__', '__getformat__', '__getnewargs__', '__gt__', '__hash__', '__init__', '__init_subclass__', '__int__', '__le__', '__lt__', '__mod__', '__mul__', '__ne__', '__neg__', '__new__', '__pos__', '__pow__', '__radd__', '__rdivmod__', '__reduce__', '__reduce_ex__', '__repr__', '__rfloordiv__', '__rmod__', '__rmul__', '__round__', '__rpow__', '__rsub__', '__rtruediv__', '__set_format__', '__setattr__', '__sizeof__', '__str__', '__sub__', '__subclasshook__', '__truediv__', '__trunc__', 'as_integer_ratio', 'conjugate', 'fromhex', 'hex', 'imag', 'is_integer', 'real']\n"
     ]
    }
   ],
   "source": [
    "print(dir(float))"
   ]
  },
  {
   "cell_type": "code",
   "execution_count": 11,
   "id": "c737c7b8-70c8-464d-a9d2-28ad320e66b4",
   "metadata": {},
   "outputs": [
    {
     "name": "stdout",
     "output_type": "stream",
     "text": [
      "Help on class int in module builtins:\n",
      "\n",
      "class int(object)\n",
      " |  int([x]) -> integer\n",
      " |  int(x, base=10) -> integer\n",
      " |  \n",
      " |  Convert a number or string to an integer, or return 0 if no arguments\n",
      " |  are given.  If x is a number, return x.__int__().  For floating point\n",
      " |  numbers, this truncates towards zero.\n",
      " |  \n",
      " |  If x is not a number or if base is given, then x must be a string,\n",
      " |  bytes, or bytearray instance representing an integer literal in the\n",
      " |  given base.  The literal can be preceded by '+' or '-' and be surrounded\n",
      " |  by whitespace.  The base defaults to 10.  Valid bases are 0 and 2-36.\n",
      " |  Base 0 means to interpret the base from the string as an integer literal.\n",
      " |  >>> int('0b100', base=0)\n",
      " |  4\n",
      " |  \n",
      " |  Built-in subclasses:\n",
      " |      bool\n",
      " |  \n",
      " |  Methods defined here:\n",
      " |  \n",
      " |  __abs__(self, /)\n",
      " |      abs(self)\n",
      " |  \n",
      " |  __add__(self, value, /)\n",
      " |      Return self+value.\n",
      " |  \n",
      " |  __and__(self, value, /)\n",
      " |      Return self&value.\n",
      " |  \n",
      " |  __bool__(self, /)\n",
      " |      self != 0\n",
      " |  \n",
      " |  __ceil__(...)\n",
      " |      Ceiling of an Integral returns itself.\n",
      " |  \n",
      " |  __divmod__(self, value, /)\n",
      " |      Return divmod(self, value).\n",
      " |  \n",
      " |  __eq__(self, value, /)\n",
      " |      Return self==value.\n",
      " |  \n",
      " |  __float__(self, /)\n",
      " |      float(self)\n",
      " |  \n",
      " |  __floor__(...)\n",
      " |      Flooring an Integral returns itself.\n",
      " |  \n",
      " |  __floordiv__(self, value, /)\n",
      " |      Return self//value.\n",
      " |  \n",
      " |  __format__(self, format_spec, /)\n",
      " |      Default object formatter.\n",
      " |  \n",
      " |  __ge__(self, value, /)\n",
      " |      Return self>=value.\n",
      " |  \n",
      " |  __getattribute__(self, name, /)\n",
      " |      Return getattr(self, name).\n",
      " |  \n",
      " |  __getnewargs__(self, /)\n",
      " |  \n",
      " |  __gt__(self, value, /)\n",
      " |      Return self>value.\n",
      " |  \n",
      " |  __hash__(self, /)\n",
      " |      Return hash(self).\n",
      " |  \n",
      " |  __index__(self, /)\n",
      " |      Return self converted to an integer, if self is suitable for use as an index into a list.\n",
      " |  \n",
      " |  __int__(self, /)\n",
      " |      int(self)\n",
      " |  \n",
      " |  __invert__(self, /)\n",
      " |      ~self\n",
      " |  \n",
      " |  __le__(self, value, /)\n",
      " |      Return self<=value.\n",
      " |  \n",
      " |  __lshift__(self, value, /)\n",
      " |      Return self<<value.\n",
      " |  \n",
      " |  __lt__(self, value, /)\n",
      " |      Return self<value.\n",
      " |  \n",
      " |  __mod__(self, value, /)\n",
      " |      Return self%value.\n",
      " |  \n",
      " |  __mul__(self, value, /)\n",
      " |      Return self*value.\n",
      " |  \n",
      " |  __ne__(self, value, /)\n",
      " |      Return self!=value.\n",
      " |  \n",
      " |  __neg__(self, /)\n",
      " |      -self\n",
      " |  \n",
      " |  __or__(self, value, /)\n",
      " |      Return self|value.\n",
      " |  \n",
      " |  __pos__(self, /)\n",
      " |      +self\n",
      " |  \n",
      " |  __pow__(self, value, mod=None, /)\n",
      " |      Return pow(self, value, mod).\n",
      " |  \n",
      " |  __radd__(self, value, /)\n",
      " |      Return value+self.\n",
      " |  \n",
      " |  __rand__(self, value, /)\n",
      " |      Return value&self.\n",
      " |  \n",
      " |  __rdivmod__(self, value, /)\n",
      " |      Return divmod(value, self).\n",
      " |  \n",
      " |  __repr__(self, /)\n",
      " |      Return repr(self).\n",
      " |  \n",
      " |  __rfloordiv__(self, value, /)\n",
      " |      Return value//self.\n",
      " |  \n",
      " |  __rlshift__(self, value, /)\n",
      " |      Return value<<self.\n",
      " |  \n",
      " |  __rmod__(self, value, /)\n",
      " |      Return value%self.\n",
      " |  \n",
      " |  __rmul__(self, value, /)\n",
      " |      Return value*self.\n",
      " |  \n",
      " |  __ror__(self, value, /)\n",
      " |      Return value|self.\n",
      " |  \n",
      " |  __round__(...)\n",
      " |      Rounding an Integral returns itself.\n",
      " |      Rounding with an ndigits argument also returns an integer.\n",
      " |  \n",
      " |  __rpow__(self, value, mod=None, /)\n",
      " |      Return pow(value, self, mod).\n",
      " |  \n",
      " |  __rrshift__(self, value, /)\n",
      " |      Return value>>self.\n",
      " |  \n",
      " |  __rshift__(self, value, /)\n",
      " |      Return self>>value.\n",
      " |  \n",
      " |  __rsub__(self, value, /)\n",
      " |      Return value-self.\n",
      " |  \n",
      " |  __rtruediv__(self, value, /)\n",
      " |      Return value/self.\n",
      " |  \n",
      " |  __rxor__(self, value, /)\n",
      " |      Return value^self.\n",
      " |  \n",
      " |  __sizeof__(self, /)\n",
      " |      Returns size in memory, in bytes.\n",
      " |  \n",
      " |  __sub__(self, value, /)\n",
      " |      Return self-value.\n",
      " |  \n",
      " |  __truediv__(self, value, /)\n",
      " |      Return self/value.\n",
      " |  \n",
      " |  __trunc__(...)\n",
      " |      Truncating an Integral returns itself.\n",
      " |  \n",
      " |  __xor__(self, value, /)\n",
      " |      Return self^value.\n",
      " |  \n",
      " |  as_integer_ratio(self, /)\n",
      " |      Return integer ratio.\n",
      " |      \n",
      " |      Return a pair of integers, whose ratio is exactly equal to the original int\n",
      " |      and with a positive denominator.\n",
      " |      \n",
      " |      >>> (10).as_integer_ratio()\n",
      " |      (10, 1)\n",
      " |      >>> (-10).as_integer_ratio()\n",
      " |      (-10, 1)\n",
      " |      >>> (0).as_integer_ratio()\n",
      " |      (0, 1)\n",
      " |  \n",
      " |  bit_length(self, /)\n",
      " |      Number of bits necessary to represent self in binary.\n",
      " |      \n",
      " |      >>> bin(37)\n",
      " |      '0b100101'\n",
      " |      >>> (37).bit_length()\n",
      " |      6\n",
      " |  \n",
      " |  conjugate(...)\n",
      " |      Returns self, the complex conjugate of any int.\n",
      " |  \n",
      " |  to_bytes(self, /, length, byteorder, *, signed=False)\n",
      " |      Return an array of bytes representing an integer.\n",
      " |      \n",
      " |      length\n",
      " |        Length of bytes object to use.  An OverflowError is raised if the\n",
      " |        integer is not representable with the given number of bytes.\n",
      " |      byteorder\n",
      " |        The byte order used to represent the integer.  If byteorder is 'big',\n",
      " |        the most significant byte is at the beginning of the byte array.  If\n",
      " |        byteorder is 'little', the most significant byte is at the end of the\n",
      " |        byte array.  To request the native byte order of the host system, use\n",
      " |        `sys.byteorder' as the byte order value.\n",
      " |      signed\n",
      " |        Determines whether two's complement is used to represent the integer.\n",
      " |        If signed is False and a negative integer is given, an OverflowError\n",
      " |        is raised.\n",
      " |  \n",
      " |  ----------------------------------------------------------------------\n",
      " |  Class methods defined here:\n",
      " |  \n",
      " |  from_bytes(bytes, byteorder, *, signed=False) from builtins.type\n",
      " |      Return the integer represented by the given array of bytes.\n",
      " |      \n",
      " |      bytes\n",
      " |        Holds the array of bytes to convert.  The argument must either\n",
      " |        support the buffer protocol or be an iterable object producing bytes.\n",
      " |        Bytes and bytearray are examples of built-in objects that support the\n",
      " |        buffer protocol.\n",
      " |      byteorder\n",
      " |        The byte order used to represent the integer.  If byteorder is 'big',\n",
      " |        the most significant byte is at the beginning of the byte array.  If\n",
      " |        byteorder is 'little', the most significant byte is at the end of the\n",
      " |        byte array.  To request the native byte order of the host system, use\n",
      " |        `sys.byteorder' as the byte order value.\n",
      " |      signed\n",
      " |        Indicates whether two's complement is used to represent the integer.\n",
      " |  \n",
      " |  ----------------------------------------------------------------------\n",
      " |  Static methods defined here:\n",
      " |  \n",
      " |  __new__(*args, **kwargs) from builtins.type\n",
      " |      Create and return a new object.  See help(type) for accurate signature.\n",
      " |  \n",
      " |  ----------------------------------------------------------------------\n",
      " |  Data descriptors defined here:\n",
      " |  \n",
      " |  denominator\n",
      " |      the denominator of a rational number in lowest terms\n",
      " |  \n",
      " |  imag\n",
      " |      the imaginary part of a complex number\n",
      " |  \n",
      " |  numerator\n",
      " |      the numerator of a rational number in lowest terms\n",
      " |  \n",
      " |  real\n",
      " |      the real part of a complex number\n",
      "\n"
     ]
    }
   ],
   "source": [
    "help(int)"
   ]
  },
  {
   "cell_type": "code",
   "execution_count": 12,
   "id": "67e6aebe-3323-4093-ba24-59c36bb4f076",
   "metadata": {},
   "outputs": [
    {
     "name": "stdout",
     "output_type": "stream",
     "text": [
      "int([x]) -> integer\n",
      "int(x, base=10) -> integer\n",
      "\n",
      "Convert a number or string to an integer, or return 0 if no arguments\n",
      "are given.  If x is a number, return x.__int__().  For floating point\n",
      "numbers, this truncates towards zero.\n",
      "\n",
      "If x is not a number or if base is given, then x must be a string,\n",
      "bytes, or bytearray instance representing an integer literal in the\n",
      "given base.  The literal can be preceded by '+' or '-' and be surrounded\n",
      "by whitespace.  The base defaults to 10.  Valid bases are 0 and 2-36.\n",
      "Base 0 means to interpret the base from the string as an integer literal.\n",
      ">>> int('0b100', base=0)\n",
      "4\n"
     ]
    }
   ],
   "source": [
    "print(int.__doc__)"
   ]
  },
  {
   "cell_type": "code",
   "execution_count": 13,
   "id": "a6ca8192-e08c-4aed-9dc6-e1a456445b57",
   "metadata": {},
   "outputs": [
    {
     "name": "stdout",
     "output_type": "stream",
     "text": [
      "the real part of a complex number\n"
     ]
    }
   ],
   "source": [
    "print(int.real.__doc__)"
   ]
  },
  {
   "cell_type": "code",
   "execution_count": 14,
   "id": "ce960e51-d6f1-4fc8-8c92-5cc0fdd88810",
   "metadata": {},
   "outputs": [
    {
     "name": "stdout",
     "output_type": "stream",
     "text": [
      "No Python documentation found for 'the real part of a complex number'.\n",
      "Use help() to get the interactive help utility.\n",
      "Use help(str) for help on the str class.\n",
      "\n"
     ]
    }
   ],
   "source": [
    "help(int.real.__doc__)"
   ]
  },
  {
   "cell_type": "code",
   "execution_count": 15,
   "id": "8d488200-12d1-4a5c-8bfc-b2ce97ff2af2",
   "metadata": {},
   "outputs": [
    {
     "name": "stdout",
     "output_type": "stream",
     "text": [
      "Help on getset descriptor builtins.int.real:\n",
      "\n",
      "real\n",
      "    the real part of a complex number\n",
      "\n"
     ]
    }
   ],
   "source": [
    "help(int.real)"
   ]
  },
  {
   "cell_type": "code",
   "execution_count": 16,
   "id": "83b77474-1bcb-4349-84bd-9b9960fd7054",
   "metadata": {},
   "outputs": [
    {
     "name": "stdout",
     "output_type": "stream",
     "text": [
      "[] <class 'list'>\n",
      "[] <class 'list'>\n"
     ]
    }
   ],
   "source": [
    "h = list()\n",
    "g = []\n",
    "print(h,type(h))\n",
    "print(g,type(g))"
   ]
  },
  {
   "cell_type": "code",
   "execution_count": 17,
   "id": "066366df-aaef-4fea-adf6-0a4a62798c68",
   "metadata": {},
   "outputs": [
    {
     "name": "stdout",
     "output_type": "stream",
     "text": [
      "[23, 56.01, False, (5+3j), 'Tilak', 23, 23, 23] <class 'list'>\n"
     ]
    }
   ],
   "source": [
    "v = [23,56.01,False,5+3j,\"Tilak\",23,23,23]\n",
    "print(v,type(v))"
   ]
  },
  {
   "cell_type": "code",
   "execution_count": 18,
   "id": "00829abe-1d54-4b90-9522-f1501615fd53",
   "metadata": {},
   "outputs": [
    {
     "name": "stdout",
     "output_type": "stream",
     "text": [
      "['__add__', '__class__', '__class_getitem__', '__contains__', '__delattr__', '__delitem__', '__dir__', '__doc__', '__eq__', '__format__', '__ge__', '__getattribute__', '__getitem__', '__gt__', '__hash__', '__iadd__', '__imul__', '__init__', '__init_subclass__', '__iter__', '__le__', '__len__', '__lt__', '__mul__', '__ne__', '__new__', '__reduce__', '__reduce_ex__', '__repr__', '__reversed__', '__rmul__', '__setattr__', '__setitem__', '__sizeof__', '__str__', '__subclasshook__', 'append', 'clear', 'copy', 'count', 'extend', 'index', 'insert', 'pop', 'remove', 'reverse', 'sort']\n"
     ]
    }
   ],
   "source": [
    "print(dir(list))"
   ]
  },
  {
   "cell_type": "code",
   "execution_count": 19,
   "id": "0934ea4e-dce3-45b9-93e7-6bfb00fe85b5",
   "metadata": {},
   "outputs": [
    {
     "name": "stdout",
     "output_type": "stream",
     "text": [
      "Append object to the end of the list.\n"
     ]
    }
   ],
   "source": [
    "print(list.append.__doc__)"
   ]
  },
  {
   "cell_type": "code",
   "execution_count": 20,
   "id": "e65b2432-7247-45d4-af9a-e52d45f628e4",
   "metadata": {},
   "outputs": [
    {
     "name": "stdout",
     "output_type": "stream",
     "text": [
      "[]\n",
      "[34]\n"
     ]
    }
   ],
   "source": [
    "e = []\n",
    "print(e)\n",
    "e.append(34)\n",
    "print(e)"
   ]
  },
  {
   "cell_type": "code",
   "execution_count": 21,
   "id": "c84172f4-5161-4ef6-bb7e-a600188c1a39",
   "metadata": {},
   "outputs": [
    {
     "name": "stdout",
     "output_type": "stream",
     "text": [
      "[34]\n"
     ]
    },
    {
     "ename": "TypeError",
     "evalue": "list.append() takes exactly one argument (2 given)",
     "output_type": "error",
     "traceback": [
      "\u001b[1;31m---------------------------------------------------------------------------\u001b[0m",
      "\u001b[1;31mTypeError\u001b[0m                                 Traceback (most recent call last)",
      "Cell \u001b[1;32mIn[21], line 2\u001b[0m\n\u001b[0;32m      1\u001b[0m \u001b[38;5;28mprint\u001b[39m(e)\n\u001b[1;32m----> 2\u001b[0m \u001b[43me\u001b[49m\u001b[38;5;241;43m.\u001b[39;49m\u001b[43mappend\u001b[49m\u001b[43m(\u001b[49m\u001b[38;5;241;43m24\u001b[39;49m\u001b[43m,\u001b[49m\u001b[38;5;124;43m\"\u001b[39;49m\u001b[38;5;124;43m56\u001b[39;49m\u001b[38;5;124;43m\"\u001b[39;49m\u001b[43m)\u001b[49m\n\u001b[0;32m      3\u001b[0m \u001b[38;5;28mprint\u001b[39m(e)\n",
      "\u001b[1;31mTypeError\u001b[0m: list.append() takes exactly one argument (2 given)"
     ]
    }
   ],
   "source": [
    "print(e)\n",
    "e.append(24,\"56\")\n",
    "print(e)"
   ]
  },
  {
   "cell_type": "code",
   "execution_count": 22,
   "id": "1e4c9657-ffa9-4562-b058-518316ee22c9",
   "metadata": {},
   "outputs": [
    {
     "name": "stdout",
     "output_type": "stream",
     "text": [
      "[34]\n",
      "[34, [0.12, 'Haritha', False]]\n"
     ]
    }
   ],
   "source": [
    "print(e)\n",
    "e.append([0.12,\"Haritha\",False])\n",
    "print(e)"
   ]
  },
  {
   "cell_type": "code",
   "execution_count": 23,
   "id": "6f906f5a-dcd8-4fa6-9037-44e92ce05a3f",
   "metadata": {},
   "outputs": [
    {
     "name": "stdout",
     "output_type": "stream",
     "text": [
      "[45, 'Raju']\n"
     ]
    },
    {
     "ename": "TypeError",
     "evalue": "'int' object is not iterable",
     "output_type": "error",
     "traceback": [
      "\u001b[1;31m---------------------------------------------------------------------------\u001b[0m",
      "\u001b[1;31mTypeError\u001b[0m                                 Traceback (most recent call last)",
      "Cell \u001b[1;32mIn[23], line 3\u001b[0m\n\u001b[0;32m      1\u001b[0m a \u001b[38;5;241m=\u001b[39m [\u001b[38;5;241m45\u001b[39m,\u001b[38;5;124m\"\u001b[39m\u001b[38;5;124mRaju\u001b[39m\u001b[38;5;124m\"\u001b[39m]\n\u001b[0;32m      2\u001b[0m \u001b[38;5;28mprint\u001b[39m(a)\n\u001b[1;32m----> 3\u001b[0m \u001b[43ma\u001b[49m\u001b[38;5;241;43m.\u001b[39;49m\u001b[43mextend\u001b[49m\u001b[43m(\u001b[49m\u001b[38;5;241;43m56\u001b[39;49m\u001b[43m)\u001b[49m\n\u001b[0;32m      4\u001b[0m \u001b[38;5;28mprint\u001b[39m(a)\n",
      "\u001b[1;31mTypeError\u001b[0m: 'int' object is not iterable"
     ]
    }
   ],
   "source": [
    "a = [45,\"Raju\"]\n",
    "print(a)\n",
    "a.extend(56)\n",
    "print(a)"
   ]
  },
  {
   "cell_type": "code",
   "execution_count": 24,
   "id": "0c3b9af1-4270-4528-8256-79bd13a2d2d8",
   "metadata": {},
   "outputs": [
    {
     "name": "stdout",
     "output_type": "stream",
     "text": [
      "[45, 'Raju']\n"
     ]
    },
    {
     "ename": "TypeError",
     "evalue": "list.extend() takes exactly one argument (2 given)",
     "output_type": "error",
     "traceback": [
      "\u001b[1;31m---------------------------------------------------------------------------\u001b[0m",
      "\u001b[1;31mTypeError\u001b[0m                                 Traceback (most recent call last)",
      "Cell \u001b[1;32mIn[24], line 2\u001b[0m\n\u001b[0;32m      1\u001b[0m \u001b[38;5;28mprint\u001b[39m(a)\n\u001b[1;32m----> 2\u001b[0m \u001b[43ma\u001b[49m\u001b[38;5;241;43m.\u001b[39;49m\u001b[43mextend\u001b[49m\u001b[43m(\u001b[49m\u001b[38;5;241;43m45\u001b[39;49m\u001b[43m,\u001b[49m\u001b[38;5;124;43m\"\u001b[39;49m\u001b[38;5;124;43m90\u001b[39;49m\u001b[38;5;124;43m\"\u001b[39;49m\u001b[43m)\u001b[49m\n\u001b[0;32m      3\u001b[0m \u001b[38;5;28mprint\u001b[39m(a)\n",
      "\u001b[1;31mTypeError\u001b[0m: list.extend() takes exactly one argument (2 given)"
     ]
    }
   ],
   "source": [
    "print(a)\n",
    "a.extend(45,\"90\")\n",
    "print(a)"
   ]
  },
  {
   "cell_type": "code",
   "execution_count": 25,
   "id": "b734e286-5634-4faf-bb51-78a52e037f51",
   "metadata": {},
   "outputs": [
    {
     "name": "stdout",
     "output_type": "stream",
     "text": [
      "[45, 'Raju']\n",
      "[45, 'Raju', 34, '90.012', True]\n"
     ]
    }
   ],
   "source": [
    "print(a)\n",
    "a.extend([34,\"90.012\",True])\n",
    "print(a)"
   ]
  },
  {
   "cell_type": "code",
   "execution_count": 26,
   "id": "55b195ec-3645-4992-b80d-00b9e07d201b",
   "metadata": {},
   "outputs": [
    {
     "name": "stdout",
     "output_type": "stream",
     "text": [
      "[45, 'Raju', 34, '90.012', True]\n"
     ]
    },
    {
     "ename": "TypeError",
     "evalue": "insert expected 2 arguments, got 0",
     "output_type": "error",
     "traceback": [
      "\u001b[1;31m---------------------------------------------------------------------------\u001b[0m",
      "\u001b[1;31mTypeError\u001b[0m                                 Traceback (most recent call last)",
      "Cell \u001b[1;32mIn[26], line 2\u001b[0m\n\u001b[0;32m      1\u001b[0m \u001b[38;5;28mprint\u001b[39m(a)\n\u001b[1;32m----> 2\u001b[0m \u001b[43ma\u001b[49m\u001b[38;5;241;43m.\u001b[39;49m\u001b[43minsert\u001b[49m\u001b[43m(\u001b[49m\u001b[43m)\u001b[49m\n\u001b[0;32m      3\u001b[0m \u001b[38;5;28mprint\u001b[39m(a)\n",
      "\u001b[1;31mTypeError\u001b[0m: insert expected 2 arguments, got 0"
     ]
    }
   ],
   "source": [
    "print(a)\n",
    "a.insert()\n",
    "print(a)"
   ]
  },
  {
   "cell_type": "code",
   "execution_count": 27,
   "id": "b01a70c1-e9bb-453d-90d0-a8d2bc09e0a6",
   "metadata": {},
   "outputs": [
    {
     "name": "stdout",
     "output_type": "stream",
     "text": [
      "[45, 'Raju', 34, '90.012', True]\n",
      "[120, 45, 'Raju', 34, '90.012', True]\n"
     ]
    }
   ],
   "source": [
    "print(a)\n",
    "a.insert(0,120)\n",
    "print(a)"
   ]
  },
  {
   "cell_type": "code",
   "execution_count": 28,
   "id": "d8f1fbda-45b5-4133-949c-8d6f3f87c26e",
   "metadata": {},
   "outputs": [
    {
     "name": "stdout",
     "output_type": "stream",
     "text": [
      "[120, 45, 'Raju', 34, '90.012', True]\n",
      "[['Tilak', 'Lavanya', 'Sirisha'], 120, 45, 'Raju', 34, '90.012', True]\n"
     ]
    }
   ],
   "source": [
    "print(a)\n",
    "a.insert(0,[\"Tilak\",\"Lavanya\",\"Sirisha\"])\n",
    "print(a)"
   ]
  },
  {
   "cell_type": "code",
   "execution_count": 30,
   "id": "f4300226-67da-4d6c-a37a-45ee6ae7a940",
   "metadata": {},
   "outputs": [
    {
     "name": "stdout",
     "output_type": "stream",
     "text": [
      "[['Tilak', 'Lavanya', 'Sirisha'], 120, 45, 'Raju', 34, '90.012', True]\n",
      "[['Tilak', 'Lavanya', 'Sirisha'], 120, 45, 'Raju', 34, '90.012', True, 'kiran']\n"
     ]
    }
   ],
   "source": [
    "print(a)\n",
    "a.insert(10,\"kiran\")\n",
    "print(a)"
   ]
  },
  {
   "cell_type": "code",
   "execution_count": 29,
   "id": "4d2a0036-2779-42b6-b03d-5b3ff2cf31a7",
   "metadata": {},
   "outputs": [
    {
     "name": "stdout",
     "output_type": "stream",
     "text": [
      "[34, 78.121, False, (7+56j), 34, 34, 'Charan']\n",
      "[34, 78.121, False, (7+56j), 34, 34]\n"
     ]
    }
   ],
   "source": [
    "w = [34,78.121,False,7+56j,34,34,\"Charan\"]\n",
    "print(w)\n",
    "w.pop()\n",
    "print(w)"
   ]
  },
  {
   "cell_type": "code",
   "execution_count": 31,
   "id": "5bcfef0f-d6d6-410f-9256-d52f0e5d8bec",
   "metadata": {},
   "outputs": [
    {
     "name": "stdout",
     "output_type": "stream",
     "text": [
      "[34, 78.121, False, (7+56j), 34, 34]\n",
      "[34, False, (7+56j), 34, 34]\n"
     ]
    }
   ],
   "source": [
    "print(w)\n",
    "w.pop(1)\n",
    "print(w)"
   ]
  },
  {
   "cell_type": "code",
   "execution_count": 32,
   "id": "883decd4-ce18-4240-a7b8-3f08b4a3c75e",
   "metadata": {},
   "outputs": [
    {
     "name": "stdout",
     "output_type": "stream",
     "text": [
      "[34, False, (7+56j), 34, 34]\n"
     ]
    },
    {
     "ename": "IndexError",
     "evalue": "pop index out of range",
     "output_type": "error",
     "traceback": [
      "\u001b[1;31m---------------------------------------------------------------------------\u001b[0m",
      "\u001b[1;31mIndexError\u001b[0m                                Traceback (most recent call last)",
      "Cell \u001b[1;32mIn[32], line 2\u001b[0m\n\u001b[0;32m      1\u001b[0m \u001b[38;5;28mprint\u001b[39m(w)\n\u001b[1;32m----> 2\u001b[0m \u001b[43mw\u001b[49m\u001b[38;5;241;43m.\u001b[39;49m\u001b[43mpop\u001b[49m\u001b[43m(\u001b[49m\u001b[38;5;241;43m15\u001b[39;49m\u001b[43m)\u001b[49m\n\u001b[0;32m      3\u001b[0m \u001b[38;5;28mprint\u001b[39m(w)\n",
      "\u001b[1;31mIndexError\u001b[0m: pop index out of range"
     ]
    }
   ],
   "source": [
    "print(w)\n",
    "w.pop(15)\n",
    "print(w)"
   ]
  },
  {
   "cell_type": "code",
   "execution_count": 33,
   "id": "d0ac8be6-fe46-4072-bafd-be947b2eebba",
   "metadata": {},
   "outputs": [
    {
     "name": "stdout",
     "output_type": "stream",
     "text": [
      "[34, False, (7+56j), 34, 34]\n",
      "[False, (7+56j), 34, 34]\n"
     ]
    }
   ],
   "source": [
    "print(w)\n",
    "w.remove(34)\n",
    "print(w)"
   ]
  },
  {
   "cell_type": "code",
   "execution_count": 34,
   "id": "8dde7212-afc9-48ba-808b-2d0ebd282c9b",
   "metadata": {},
   "outputs": [
    {
     "name": "stdout",
     "output_type": "stream",
     "text": [
      "[False, (7+56j), 34, 34]\n",
      "2\n",
      "0\n"
     ]
    }
   ],
   "source": [
    "print(w)\n",
    "print(w.count(34))\n",
    "print(w.count(-956))"
   ]
  },
  {
   "cell_type": "code",
   "execution_count": 36,
   "id": "f35ae63a-0171-49b0-b5ba-aae073ef6733",
   "metadata": {},
   "outputs": [
    {
     "name": "stdout",
     "output_type": "stream",
     "text": [
      "[45, 89, 56, 78, 45, 23.0]\n",
      "1\n"
     ]
    }
   ],
   "source": [
    "g = [45,89,56,78,45,23.0]\n",
    "print(g)\n",
    "print(g.index(89))"
   ]
  },
  {
   "cell_type": "code",
   "execution_count": 37,
   "id": "fa9f87e4-c0ef-45a9-87ba-c18a1577f368",
   "metadata": {},
   "outputs": [
    {
     "ename": "ValueError",
     "evalue": "-100 is not in list",
     "output_type": "error",
     "traceback": [
      "\u001b[1;31m---------------------------------------------------------------------------\u001b[0m",
      "\u001b[1;31mValueError\u001b[0m                                Traceback (most recent call last)",
      "Cell \u001b[1;32mIn[37], line 1\u001b[0m\n\u001b[1;32m----> 1\u001b[0m \u001b[38;5;28mprint\u001b[39m(\u001b[43mg\u001b[49m\u001b[38;5;241;43m.\u001b[39;49m\u001b[43mindex\u001b[49m\u001b[43m(\u001b[49m\u001b[38;5;241;43m-\u001b[39;49m\u001b[38;5;241;43m100\u001b[39;49m\u001b[43m)\u001b[49m)\n",
      "\u001b[1;31mValueError\u001b[0m: -100 is not in list"
     ]
    }
   ],
   "source": [
    "print(g.index(-100))"
   ]
  },
  {
   "cell_type": "code",
   "execution_count": 38,
   "id": "2f621a56-f3ed-43b9-9995-d3fce7157d7f",
   "metadata": {},
   "outputs": [
    {
     "name": "stdout",
     "output_type": "stream",
     "text": [
      "[45, 89, 56, 78, 45, 23.0]\n",
      "[]\n"
     ]
    }
   ],
   "source": [
    "print(g)\n",
    "g.clear()\n",
    "print(g)"
   ]
  },
  {
   "cell_type": "code",
   "execution_count": 39,
   "id": "da6020ce-f8bb-4738-9c97-1c8e982c9557",
   "metadata": {},
   "outputs": [
    {
     "name": "stdout",
     "output_type": "stream",
     "text": [
      "[34, 67, 89, 23.898]\n"
     ]
    },
    {
     "ename": "NameError",
     "evalue": "name 'z' is not defined",
     "output_type": "error",
     "traceback": [
      "\u001b[1;31m---------------------------------------------------------------------------\u001b[0m",
      "\u001b[1;31mNameError\u001b[0m                                 Traceback (most recent call last)",
      "Cell \u001b[1;32mIn[39], line 4\u001b[0m\n\u001b[0;32m      2\u001b[0m \u001b[38;5;28mprint\u001b[39m(z)\n\u001b[0;32m      3\u001b[0m \u001b[38;5;28;01mdel\u001b[39;00m z\n\u001b[1;32m----> 4\u001b[0m \u001b[38;5;28mprint\u001b[39m(\u001b[43mz\u001b[49m)\n",
      "\u001b[1;31mNameError\u001b[0m: name 'z' is not defined"
     ]
    }
   ],
   "source": [
    "z = [34,67,89,23.8980]\n",
    "print(z)\n",
    "del z\n",
    "print(z)"
   ]
  },
  {
   "cell_type": "code",
   "execution_count": 40,
   "id": "4ff56a08-7cca-45e6-b8ee-14ab52acda8d",
   "metadata": {},
   "outputs": [
    {
     "name": "stdout",
     "output_type": "stream",
     "text": [
      "[34, 67, 89, 'Manoj']\n",
      "[34, 67, 89, 'Manoj']\n",
      "[34, 67, 89, 'Manoj']\n"
     ]
    }
   ],
   "source": [
    "s = [34,67,89,\"Manoj\"]\n",
    "print(s)\n",
    "v = s.copy()\n",
    "print(s)\n",
    "print(v)"
   ]
  },
  {
   "cell_type": "code",
   "execution_count": 41,
   "id": "ad5e39fc-efa2-4ea9-ad7b-585a9e5d381c",
   "metadata": {},
   "outputs": [
    {
     "name": "stdout",
     "output_type": "stream",
     "text": [
      "[34, 67, 89, 'Manoj']\n",
      "[34, 67, 89]\n",
      "[34, 67, 89, 'Manoj']\n"
     ]
    }
   ],
   "source": [
    "print(s)\n",
    "s.pop()\n",
    "print(s)\n",
    "print(v)"
   ]
  },
  {
   "cell_type": "code",
   "execution_count": 42,
   "id": "66ebde52-dd52-4f64-a318-5583c12096fd",
   "metadata": {},
   "outputs": [
    {
     "name": "stdout",
     "output_type": "stream",
     "text": [
      "[34, 67, 89]\n",
      "[34, 67, 89, 'Manoj']\n",
      "[34, 67, 89]\n",
      "[67, 89, 'Manoj']\n"
     ]
    }
   ],
   "source": [
    "print(s)\n",
    "print(v)\n",
    "v.remove(34)\n",
    "print(s)\n",
    "print(v)"
   ]
  },
  {
   "cell_type": "code",
   "execution_count": 43,
   "id": "ce41d309-dc5b-44b6-8c31-9cd6c2694072",
   "metadata": {},
   "outputs": [
    {
     "name": "stdout",
     "output_type": "stream",
     "text": [
      "[150, 5, 63, 789, 12, 4]\n",
      "[4, 5, 12, 63, 150, 789]\n"
     ]
    }
   ],
   "source": [
    "m = [150,5,63,789,12,4]\n",
    "print(m)\n",
    "m.sort()\n",
    "print(m)"
   ]
  },
  {
   "cell_type": "code",
   "execution_count": 46,
   "id": "57883648-cff1-4bf8-8473-a414ba04b0a5",
   "metadata": {},
   "outputs": [
    {
     "name": "stdout",
     "output_type": "stream",
     "text": [
      "[154, 56, 637, 7, 1, 47]\n",
      "[637, 154, 56, 47, 7, 1]\n"
     ]
    }
   ],
   "source": [
    "t = [154,56,637,7,1,47]\n",
    "print(t)\n",
    "t.sort(reverse=True)\n",
    "print(t)"
   ]
  },
  {
   "cell_type": "code",
   "execution_count": 48,
   "id": "7c2dad4c-1a8d-4623-8c6d-9460020cc3ce",
   "metadata": {},
   "outputs": [
    {
     "name": "stdout",
     "output_type": "stream",
     "text": [
      "[12, 56.0121, 'Dinesh', 67, False, (4+3j)]\n",
      "[(4+3j), False, 67, 'Dinesh', 56.0121, 12]\n"
     ]
    }
   ],
   "source": [
    "z = [12,56.0121,\"Dinesh\",67,False,4+3j]\n",
    "print(z)\n",
    "z.reverse()\n",
    "print(z)"
   ]
  },
  {
   "cell_type": "markdown",
   "id": "71602dd7-1613-4c68-a501-00590044422a",
   "metadata": {},
   "source": [
    "```\n",
    "Input\n",
    "    5\n",
    "    Enter a name: Suresh\n",
    "    Enter a name: Lokesh\n",
    "    Enter a name: Kalyan\n",
    "    Enter a name: Kalyani\n",
    "    Enter a name: Kavitha\n",
    "Output:\n",
    "    Entered name is: Suresh\n",
    "    Entered name is: Lokesh\n",
    "    Entered name is: Kalyan\n",
    "    Entered name is: Kalyani\n",
    "    Entered name is: Kavitha\n",
    "    Entered names are: Suresh,Lokesh,Kalyan,Kalyani,Kavitha\n",
    "```"
   ]
  },
  {
   "cell_type": "code",
   "execution_count": 52,
   "id": "5379cf1e-7b2f-47f5-ab67-5acf27ef58d9",
   "metadata": {},
   "outputs": [
    {
     "name": "stdin",
     "output_type": "stream",
     "text": [
      " 2\n",
      "Enter a name:  yamini\n"
     ]
    },
    {
     "name": "stdout",
     "output_type": "stream",
     "text": [
      "Entered name is: yamini\n"
     ]
    },
    {
     "name": "stdin",
     "output_type": "stream",
     "text": [
      "Enter a name:  eswar\n"
     ]
    },
    {
     "name": "stdout",
     "output_type": "stream",
     "text": [
      "Entered name is: eswar\n",
      "Entered names are: yamini,eswar"
     ]
    }
   ],
   "source": [
    "g = int(input())\n",
    "k = []\n",
    "for i in range(g):\n",
    "    n = input(\"Enter a name: \")\n",
    "    print(f\"Entered name is: {n}\")\n",
    "    k.append(n)\n",
    "print(\"Entered names are: \",end=\"\")\n",
    "for j in range(len(k)):\n",
    "    if j == len(k)-1:\n",
    "        print(k[j],end=\"\")\n",
    "    else:\n",
    "        print(k[j],end=\",\")"
   ]
  },
  {
   "cell_type": "code",
   "execution_count": 53,
   "id": "a5fe7515-9f63-4602-934e-e616bfcec245",
   "metadata": {},
   "outputs": [
    {
     "name": "stdout",
     "output_type": "stream",
     "text": [
      "34 67 89 34 "
     ]
    }
   ],
   "source": [
    "d = [34,67,89,34]\n",
    "for i in d:\n",
    "    print(i,end=\" \")\n",
    "    "
   ]
  },
  {
   "cell_type": "code",
   "execution_count": 56,
   "id": "94b08ce7-1093-408e-a22f-8559249f5efe",
   "metadata": {},
   "outputs": [
    {
     "name": "stdout",
     "output_type": "stream",
     "text": [
      "[56, 45.67, 'Ganesh', 90, 90, (4+5j), False]\n",
      "[56, 45.67, 'Ganesh', 90, 90, (4+5j), False]\n",
      "[56, 45.67, 'Ganesh', 90, 90, (4+5j), False]\n"
     ]
    }
   ],
   "source": [
    "y = [56,45.67,\"Ganesh\",90,90,4+5j,False]\n",
    "print(y)\n",
    "print(y[:])\n",
    "print(y[::])"
   ]
  },
  {
   "cell_type": "code",
   "execution_count": 60,
   "id": "8229ca70-e265-436f-b381-43e6c463fd7d",
   "metadata": {},
   "outputs": [
    {
     "name": "stdout",
     "output_type": "stream",
     "text": [
      "Ganesh\n",
      "90\n",
      "['Ganesh', 90, 90, (4+5j), False]\n",
      "[90, (4+5j), False]\n",
      "[56, 45.67, 'Ganesh']\n",
      "[56, 45.67]\n"
     ]
    }
   ],
   "source": [
    "print(y[2])\n",
    "print(y[-3])\n",
    "print(y[2:])\n",
    "print(y[-3:])\n",
    "print(y[:3])\n",
    "print(y[:-5])"
   ]
  },
  {
   "cell_type": "code",
   "execution_count": 71,
   "id": "ba5f4d58-1a38-4378-a484-a496449cdd0a",
   "metadata": {},
   "outputs": [
    {
     "name": "stdout",
     "output_type": "stream",
     "text": [
      "[56, 45.67, 'Ganesh', 90, 90, (4+5j), False]\n",
      "['Ganesh', 90, 90, (4+5j)]\n",
      "['Ganesh', 90]\n",
      "[90, 90]\n",
      "[45.67, 'Ganesh', 90]\n"
     ]
    }
   ],
   "source": [
    "print(y)\n",
    "print(y[2:6])\n",
    "print(y[2:-3])\n",
    "print(y[-4:5])\n",
    "print(y[-6:-3])"
   ]
  },
  {
   "cell_type": "code",
   "execution_count": 77,
   "id": "53e3e7ec-bd2b-4b9b-975d-3b22f7565b6b",
   "metadata": {},
   "outputs": [
    {
     "name": "stdout",
     "output_type": "stream",
     "text": [
      "[56, 45.67, 'Ganesh', 90, 90, (4+5j), False]\n",
      "[90, 90, (4+5j), False]\n",
      "[56, 45.67, 'Ganesh', 90, 90, (4+5j)]\n",
      "[56, 90, False]\n",
      "[(4+5j), False]\n",
      "[56, 45.67, 'Ganesh']\n",
      "[False, 90, 'Ganesh', 56]\n"
     ]
    }
   ],
   "source": [
    "print(y)\n",
    "print(y[3::])\n",
    "print(y[:6:])\n",
    "print(y[::3])\n",
    "print(y[-2::])\n",
    "print(y[:-4:])\n",
    "print(y[::-2])"
   ]
  },
  {
   "cell_type": "code",
   "execution_count": 92,
   "id": "bd829ab4-ab9a-441a-85c5-02bf6e5d576b",
   "metadata": {},
   "outputs": [
    {
     "name": "stdout",
     "output_type": "stream",
     "text": [
      "[56, 45.67, 'Ganesh', 90, 90, (4+5j), False]\n",
      "['Ganesh', 90, 90]\n",
      "[45.67, 'Ganesh', 90]\n",
      "[90, 90]\n",
      "[45.67, 'Ganesh', 90, 90]\n",
      "['Ganesh', 90]\n",
      "[]\n",
      "['Ganesh', 45.67, 56]\n"
     ]
    }
   ],
   "source": [
    "print(y)\n",
    "print(y[2:5:])\n",
    "print(y[1:-3:])\n",
    "print(y[-4:5:])\n",
    "print(y[-6:-2:])\n",
    "print(y[2:5:2])\n",
    "print(y[1:4:-1])\n",
    "print(y[2::-1])"
   ]
  },
  {
   "cell_type": "code",
   "execution_count": 93,
   "id": "7bebb216-95f9-4780-a5a9-6d98e41f72b2",
   "metadata": {},
   "outputs": [
    {
     "name": "stdout",
     "output_type": "stream",
     "text": [
      "() <class 'tuple'>\n",
      "() <class 'tuple'>\n"
     ]
    }
   ],
   "source": [
    "e = ()\n",
    "r = tuple()\n",
    "print(e,type(e))\n",
    "print(r,type(r))"
   ]
  },
  {
   "cell_type": "code",
   "execution_count": 94,
   "id": "49115d58-071a-4840-915d-3f7cbc05e0a7",
   "metadata": {},
   "outputs": [
    {
     "name": "stdout",
     "output_type": "stream",
     "text": [
      "(34, 56.1021, False, 'Lokesh', (4+3j), 34, 34, 34) <class 'tuple'>\n"
     ]
    }
   ],
   "source": [
    "q = (34,56.1021,False,\"Lokesh\",4+3j,34,34,34)\n",
    "print(q,type(q))"
   ]
  },
  {
   "cell_type": "code",
   "execution_count": 95,
   "id": "de4b9d70-e53f-4815-8f9b-d081e1215cb1",
   "metadata": {},
   "outputs": [
    {
     "name": "stdout",
     "output_type": "stream",
     "text": [
      "['__add__', '__class__', '__class_getitem__', '__contains__', '__delattr__', '__dir__', '__doc__', '__eq__', '__format__', '__ge__', '__getattribute__', '__getitem__', '__getnewargs__', '__gt__', '__hash__', '__init__', '__init_subclass__', '__iter__', '__le__', '__len__', '__lt__', '__mul__', '__ne__', '__new__', '__reduce__', '__reduce_ex__', '__repr__', '__rmul__', '__setattr__', '__sizeof__', '__str__', '__subclasshook__', 'count', 'index']\n"
     ]
    }
   ],
   "source": [
    "print(dir(tuple))"
   ]
  },
  {
   "cell_type": "code",
   "execution_count": 96,
   "id": "05573143-0b39-4d24-b94a-52426e0c9851",
   "metadata": {},
   "outputs": [
    {
     "name": "stdout",
     "output_type": "stream",
     "text": [
      "(34, 56.1021, False, 'Lokesh', (4+3j), 34, 34, 34)\n",
      "0\n",
      "4\n"
     ]
    }
   ],
   "source": [
    "print(q)\n",
    "print(q.count(-3))\n",
    "print(q.count(34))"
   ]
  },
  {
   "cell_type": "code",
   "execution_count": 97,
   "id": "d51d2675-d09c-4a24-8a8e-1a8743ea46a1",
   "metadata": {},
   "outputs": [
    {
     "name": "stdout",
     "output_type": "stream",
     "text": [
      "(34, 56.1021, False, 'Lokesh', (4+3j), 34, 34, 34)\n",
      "0\n"
     ]
    },
    {
     "ename": "ValueError",
     "evalue": "tuple.index(x): x not in tuple",
     "output_type": "error",
     "traceback": [
      "\u001b[1;31m---------------------------------------------------------------------------\u001b[0m",
      "\u001b[1;31mValueError\u001b[0m                                Traceback (most recent call last)",
      "Cell \u001b[1;32mIn[97], line 3\u001b[0m\n\u001b[0;32m      1\u001b[0m \u001b[38;5;28mprint\u001b[39m(q)\n\u001b[0;32m      2\u001b[0m \u001b[38;5;28mprint\u001b[39m(q\u001b[38;5;241m.\u001b[39mindex(\u001b[38;5;241m34\u001b[39m))\n\u001b[1;32m----> 3\u001b[0m \u001b[38;5;28mprint\u001b[39m(\u001b[43mq\u001b[49m\u001b[38;5;241;43m.\u001b[39;49m\u001b[43mindex\u001b[49m\u001b[43m(\u001b[49m\u001b[38;5;241;43m-\u001b[39;49m\u001b[38;5;241;43m89\u001b[39;49m\u001b[43m)\u001b[49m)\n",
      "\u001b[1;31mValueError\u001b[0m: tuple.index(x): x not in tuple"
     ]
    }
   ],
   "source": [
    "print(q)\n",
    "print(q.index(34))\n",
    "print(q.index(-89))"
   ]
  },
  {
   "cell_type": "code",
   "execution_count": 98,
   "id": "1b9d72c0-e419-4073-b1fe-db3e3454b92d",
   "metadata": {},
   "outputs": [
    {
     "name": "stdout",
     "output_type": "stream",
     "text": [
      "{} <class 'dict'>\n",
      "{} <class 'dict'>\n"
     ]
    }
   ],
   "source": [
    "e = {}\n",
    "f = dict()\n",
    "print(e,type(e))\n",
    "print(f,type(f))"
   ]
  },
  {
   "cell_type": "code",
   "execution_count": 114,
   "id": "449933ef-9ddc-4d26-b072-00e5b2d37fbc",
   "metadata": {},
   "outputs": [
    {
     "name": "stdout",
     "output_type": "stream",
     "text": [
      "{'name': 'Harish', 'age': '25', 'gender': 'Male'} <class 'dict'>\n"
     ]
    }
   ],
   "source": [
    "w = {\"name\":\"Harish\",\"age\":\"25\",\"gender\":\"Male\"}\n",
    "print(w,type(w))"
   ]
  },
  {
   "cell_type": "code",
   "execution_count": 100,
   "id": "25e7e675-e442-4e12-94d8-6e8b13e92140",
   "metadata": {},
   "outputs": [
    {
     "name": "stdout",
     "output_type": "stream",
     "text": [
      "0 1 2 "
     ]
    }
   ],
   "source": [
    "for i in range(len(w)):\n",
    "    print(i,end=\" \")"
   ]
  },
  {
   "cell_type": "code",
   "execution_count": 101,
   "id": "8456728d-f375-452d-a6a0-217c96e3c1ec",
   "metadata": {},
   "outputs": [
    {
     "ename": "KeyError",
     "evalue": "0",
     "output_type": "error",
     "traceback": [
      "\u001b[1;31m---------------------------------------------------------------------------\u001b[0m",
      "\u001b[1;31mKeyError\u001b[0m                                  Traceback (most recent call last)",
      "Cell \u001b[1;32mIn[101], line 2\u001b[0m\n\u001b[0;32m      1\u001b[0m \u001b[38;5;28;01mfor\u001b[39;00m i \u001b[38;5;129;01min\u001b[39;00m \u001b[38;5;28mrange\u001b[39m(\u001b[38;5;28mlen\u001b[39m(w)):\n\u001b[1;32m----> 2\u001b[0m     \u001b[38;5;28mprint\u001b[39m(\u001b[43mw\u001b[49m\u001b[43m[\u001b[49m\u001b[43mi\u001b[49m\u001b[43m]\u001b[49m,end\u001b[38;5;241m=\u001b[39m\u001b[38;5;124m\"\u001b[39m\u001b[38;5;124m \u001b[39m\u001b[38;5;124m\"\u001b[39m)\n",
      "\u001b[1;31mKeyError\u001b[0m: 0"
     ]
    }
   ],
   "source": [
    "for i in range(len(w)):\n",
    "    print(w[i],end=\" \")"
   ]
  },
  {
   "cell_type": "code",
   "execution_count": 102,
   "id": "ca0cccfd-47eb-4a62-b5b9-177907513ae0",
   "metadata": {},
   "outputs": [
    {
     "name": "stdout",
     "output_type": "stream",
     "text": [
      "name age gender "
     ]
    }
   ],
   "source": [
    "for i in w:\n",
    "    print(i,end=\" \")"
   ]
  },
  {
   "cell_type": "code",
   "execution_count": 103,
   "id": "e04911c0-0e19-4836-838f-c42496ffde21",
   "metadata": {},
   "outputs": [
    {
     "name": "stdout",
     "output_type": "stream",
     "text": [
      "['__class__', '__class_getitem__', '__contains__', '__delattr__', '__delitem__', '__dir__', '__doc__', '__eq__', '__format__', '__ge__', '__getattribute__', '__getitem__', '__gt__', '__hash__', '__init__', '__init_subclass__', '__ior__', '__iter__', '__le__', '__len__', '__lt__', '__ne__', '__new__', '__or__', '__reduce__', '__reduce_ex__', '__repr__', '__reversed__', '__ror__', '__setattr__', '__setitem__', '__sizeof__', '__str__', '__subclasshook__', 'clear', 'copy', 'fromkeys', 'get', 'items', 'keys', 'pop', 'popitem', 'setdefault', 'update', 'values']\n"
     ]
    }
   ],
   "source": [
    "print(dir(dict))"
   ]
  },
  {
   "cell_type": "code",
   "execution_count": 106,
   "id": "910116b5-abec-4506-965a-83c45a3e76bc",
   "metadata": {},
   "outputs": [
    {
     "name": "stdout",
     "output_type": "stream",
     "text": [
      "{'name': 'Harish', 'age': '25', 'gender': 'Male'}\n",
      "25\n",
      "Male\n"
     ]
    }
   ],
   "source": [
    "print(w)\n",
    "print(w['age'])\n",
    "print(w.get('gender'))"
   ]
  },
  {
   "cell_type": "code",
   "execution_count": 109,
   "id": "d612160a-e1ec-485c-9e14-55791764e288",
   "metadata": {},
   "outputs": [
    {
     "name": "stdout",
     "output_type": "stream",
     "text": [
      "{'name': 'Harish', 'age': '25', 'gender': 'Male'}\n",
      "dict_keys(['name', 'age', 'gender'])\n",
      "dict_values(['Harish', '25', 'Male'])\n",
      "dict_items([('name', 'Harish'), ('age', '25'), ('gender', 'Male')])\n"
     ]
    }
   ],
   "source": [
    "print(w)\n",
    "print(w.keys())\n",
    "print(w.values())\n",
    "print(w.items())"
   ]
  },
  {
   "cell_type": "code",
   "execution_count": 115,
   "id": "52f83a64-3932-4745-8024-1b2c04a97895",
   "metadata": {},
   "outputs": [
    {
     "name": "stdout",
     "output_type": "stream",
     "text": [
      "{'name': 'Harish', 'age': '25', 'gender': 'Male'}\n"
     ]
    },
    {
     "ename": "TypeError",
     "evalue": "pop expected at least 1 argument, got 0",
     "output_type": "error",
     "traceback": [
      "\u001b[1;31m---------------------------------------------------------------------------\u001b[0m",
      "\u001b[1;31mTypeError\u001b[0m                                 Traceback (most recent call last)",
      "Cell \u001b[1;32mIn[115], line 2\u001b[0m\n\u001b[0;32m      1\u001b[0m \u001b[38;5;28mprint\u001b[39m(w)\n\u001b[1;32m----> 2\u001b[0m \u001b[43mw\u001b[49m\u001b[38;5;241;43m.\u001b[39;49m\u001b[43mpop\u001b[49m\u001b[43m(\u001b[49m\u001b[43m)\u001b[49m\n\u001b[0;32m      3\u001b[0m \u001b[38;5;28mprint\u001b[39m(w)\n",
      "\u001b[1;31mTypeError\u001b[0m: pop expected at least 1 argument, got 0"
     ]
    }
   ],
   "source": [
    "print(w)\n",
    "w.pop()\n",
    "print(w)"
   ]
  },
  {
   "cell_type": "code",
   "execution_count": 116,
   "id": "f20a8418-3500-4424-8cde-565a858e4f44",
   "metadata": {},
   "outputs": [
    {
     "name": "stdout",
     "output_type": "stream",
     "text": [
      "{'name': 'Harish', 'age': '25', 'gender': 'Male'}\n",
      "{'name': 'Harish', 'gender': 'Male'}\n"
     ]
    }
   ],
   "source": [
    "print(w)\n",
    "w.pop('age')\n",
    "print(w)"
   ]
  },
  {
   "cell_type": "code",
   "execution_count": 117,
   "id": "95d78404-ec35-4869-b410-bc16a7754ff4",
   "metadata": {},
   "outputs": [
    {
     "name": "stdout",
     "output_type": "stream",
     "text": [
      "{'name': 'Harish', 'gender': 'Male'}\n",
      "{'name': 'Harish'}\n"
     ]
    }
   ],
   "source": [
    "print(w)\n",
    "w.popitem()\n",
    "print(w)"
   ]
  },
  {
   "cell_type": "code",
   "execution_count": 118,
   "id": "d73333d0-95ef-43f0-96e0-0ae9b84e88c5",
   "metadata": {},
   "outputs": [
    {
     "name": "stdout",
     "output_type": "stream",
     "text": [
      "{'name': 'Harish'}\n"
     ]
    },
    {
     "ename": "TypeError",
     "evalue": "dict.popitem() takes no arguments (1 given)",
     "output_type": "error",
     "traceback": [
      "\u001b[1;31m---------------------------------------------------------------------------\u001b[0m",
      "\u001b[1;31mTypeError\u001b[0m                                 Traceback (most recent call last)",
      "Cell \u001b[1;32mIn[118], line 2\u001b[0m\n\u001b[0;32m      1\u001b[0m \u001b[38;5;28mprint\u001b[39m(w)\n\u001b[1;32m----> 2\u001b[0m \u001b[43mw\u001b[49m\u001b[38;5;241;43m.\u001b[39;49m\u001b[43mpopitem\u001b[49m\u001b[43m(\u001b[49m\u001b[38;5;124;43m'\u001b[39;49m\u001b[38;5;124;43mname\u001b[39;49m\u001b[38;5;124;43m'\u001b[39;49m\u001b[43m)\u001b[49m\n\u001b[0;32m      3\u001b[0m \u001b[38;5;28mprint\u001b[39m(w)\n",
      "\u001b[1;31mTypeError\u001b[0m: dict.popitem() takes no arguments (1 given)"
     ]
    }
   ],
   "source": [
    "print(w)\n",
    "w.popitem('name')\n",
    "print(w)"
   ]
  },
  {
   "cell_type": "code",
   "execution_count": 119,
   "id": "b5c52c7a-ddaf-4b5d-965f-31291b161916",
   "metadata": {},
   "outputs": [
    {
     "name": "stdout",
     "output_type": "stream",
     "text": [
      "{'name': 'Harish'}\n",
      "{'name': 'Harish', 'collegename': None}\n"
     ]
    }
   ],
   "source": [
    "print(w)\n",
    "w.setdefault('collegename')\n",
    "print(w)"
   ]
  },
  {
   "cell_type": "code",
   "execution_count": 120,
   "id": "85da7b2d-72a2-4c1f-95ff-a04952366b30",
   "metadata": {},
   "outputs": [
    {
     "name": "stdout",
     "output_type": "stream",
     "text": [
      "{'name': 'Harish', 'collegename': None}\n"
     ]
    },
    {
     "ename": "TypeError",
     "evalue": "unhashable type: 'dict'",
     "output_type": "error",
     "traceback": [
      "\u001b[1;31m---------------------------------------------------------------------------\u001b[0m",
      "\u001b[1;31mTypeError\u001b[0m                                 Traceback (most recent call last)",
      "Cell \u001b[1;32mIn[120], line 2\u001b[0m\n\u001b[0;32m      1\u001b[0m \u001b[38;5;28mprint\u001b[39m(w)\n\u001b[1;32m----> 2\u001b[0m \u001b[43mw\u001b[49m\u001b[38;5;241;43m.\u001b[39;49m\u001b[43msetdefault\u001b[49m\u001b[43m(\u001b[49m\u001b[43m{\u001b[49m\u001b[38;5;124;43m'\u001b[39;49m\u001b[38;5;124;43mcity\u001b[39;49m\u001b[38;5;124;43m'\u001b[39;49m\u001b[43m:\u001b[49m\u001b[38;5;124;43m'\u001b[39;49m\u001b[38;5;124;43mGuntur\u001b[39;49m\u001b[38;5;124;43m'\u001b[39;49m\u001b[43m}\u001b[49m\u001b[43m)\u001b[49m\n\u001b[0;32m      3\u001b[0m \u001b[38;5;28mprint\u001b[39m(w)\n",
      "\u001b[1;31mTypeError\u001b[0m: unhashable type: 'dict'"
     ]
    }
   ],
   "source": [
    "print(w)\n",
    "w.setdefault({'city':'Guntur'})\n",
    "print(w)"
   ]
  },
  {
   "cell_type": "code",
   "execution_count": 121,
   "id": "46a6b01e-c2f3-4edb-99f5-33275dc5a835",
   "metadata": {},
   "outputs": [
    {
     "ename": "SyntaxError",
     "evalue": "invalid syntax (2331934431.py, line 2)",
     "output_type": "error",
     "traceback": [
      "\u001b[1;36m  Cell \u001b[1;32mIn[121], line 2\u001b[1;36m\u001b[0m\n\u001b[1;33m    w.setdefault('city':'Guntur')\u001b[0m\n\u001b[1;37m                       ^\u001b[0m\n\u001b[1;31mSyntaxError\u001b[0m\u001b[1;31m:\u001b[0m invalid syntax\n"
     ]
    }
   ],
   "source": [
    "print(w)\n",
    "w.setdefault('city':'Guntur')\n",
    "print(w)"
   ]
  },
  {
   "cell_type": "code",
   "execution_count": 122,
   "id": "95aa3116-4ca3-4900-b6c1-4371a6b89727",
   "metadata": {},
   "outputs": [
    {
     "name": "stdout",
     "output_type": "stream",
     "text": [
      "{'name': 'Harish', 'collegename': None}\n",
      "{'name': 'Harish', 'collegename': None, ('city', 'Guntur'): None}\n"
     ]
    }
   ],
   "source": [
    "print(w)\n",
    "w.setdefault(('city','Guntur'))\n",
    "print(w)"
   ]
  },
  {
   "cell_type": "code",
   "execution_count": 123,
   "id": "7416d41a-2982-4f79-8201-6eef19e08795",
   "metadata": {},
   "outputs": [
    {
     "name": "stdout",
     "output_type": "stream",
     "text": [
      "{'name': 'Harish', 'collegename': None, ('city', 'Guntur'): None}\n",
      "{'name': 'Harish', 'collegename': None, ('city', 'Guntur'): None, 'city': 'Guntur'}\n"
     ]
    }
   ],
   "source": [
    "print(w)\n",
    "w.setdefault('city','Guntur')\n",
    "print(w)"
   ]
  },
  {
   "cell_type": "code",
   "execution_count": 124,
   "id": "60ae9d16-c1ae-4dbe-846e-eb223ecc4352",
   "metadata": {},
   "outputs": [
    {
     "name": "stdout",
     "output_type": "stream",
     "text": [
      "{'name': 'Harish', 'collegename': None, ('city', 'Guntur'): None, 'city': 'Guntur'}\n",
      "{'name': 'Harish', 'collegename': None, 'city': 'Guntur'}\n"
     ]
    }
   ],
   "source": [
    "print(w)\n",
    "w.pop(('city', 'Guntur'))\n",
    "print(w)"
   ]
  },
  {
   "cell_type": "code",
   "execution_count": 126,
   "id": "529e4d82-0ec9-41eb-a17e-38859fd961af",
   "metadata": {},
   "outputs": [
    {
     "name": "stdout",
     "output_type": "stream",
     "text": [
      "{'name': 'Harish', 'collegename': None, 'city': 'Guntur'}\n",
      "{'name': 'Harish', 'collegename': 'KEC', 'city': 'Guntur'}\n"
     ]
    }
   ],
   "source": [
    "print(w)\n",
    "w.update({'collegename':\"KEC\"})\n",
    "print(w)"
   ]
  },
  {
   "cell_type": "code",
   "execution_count": 127,
   "id": "fc2112a7-6afc-4e86-8098-963f80430ea9",
   "metadata": {},
   "outputs": [
    {
     "name": "stdout",
     "output_type": "stream",
     "text": [
      "{'name': 'Harish', 'collegename': 'KEC', 'city': 'Guntur'}\n",
      "{'name': 'Harish', 'collegename': 'KEC', 'city': 'Guntur', 'age': 20}\n",
      "{'name': 'Harish', 'collegename': 'KEC', 'city': 'Vijayawada', 'age': 20}\n"
     ]
    }
   ],
   "source": [
    "print(w)\n",
    "w['age'] = 20\n",
    "print(w)\n",
    "w['city'] = \"Vijayawada\"\n",
    "print(w)"
   ]
  },
  {
   "cell_type": "code",
   "execution_count": 131,
   "id": "d2492fe7-4e47-44d2-91bf-7488fd7228ed",
   "metadata": {},
   "outputs": [
    {
     "name": "stdout",
     "output_type": "stream",
     "text": [
      "{3: 'Marks', 45: 'Marks'}\n"
     ]
    }
   ],
   "source": [
    "s = [3,45]\n",
    "t = \"Marks\"\n",
    "d = dict.fromkeys(s,t)\n",
    "print(d)"
   ]
  },
  {
   "cell_type": "code",
   "execution_count": 132,
   "id": "1e0384f3-95e7-4842-9c48-c30417bbb6eb",
   "metadata": {},
   "outputs": [
    {
     "name": "stdout",
     "output_type": "stream",
     "text": [
      "{3} <class 'set'>\n",
      "set() <class 'set'>\n"
     ]
    }
   ],
   "source": [
    "d = {3}\n",
    "h = set()\n",
    "print(d,type(d))\n",
    "print(h,type(h))"
   ]
  },
  {
   "cell_type": "code",
   "execution_count": 133,
   "id": "c419cba9-9d26-4f6b-8abd-4238d6c33c4f",
   "metadata": {},
   "outputs": [
    {
     "name": "stdout",
     "output_type": "stream",
     "text": [
      "{False, 3, '0.12', 56.151, '0.1', (4+2j), 'Sarath'} <class 'set'>\n"
     ]
    }
   ],
   "source": [
    "m = {3,56.151,False,\"Sarath\",4+2j,3,3,'0.1','0.12'}\n",
    "print(m,type(m))"
   ]
  },
  {
   "cell_type": "code",
   "execution_count": 134,
   "id": "d9c7d480-adcc-40b2-8b2c-64300b47d814",
   "metadata": {},
   "outputs": [
    {
     "data": {
      "text/plain": [
       "{(4+2j), '0.1', '0.12', 3, 56.151, False, 'Sarath'}"
      ]
     },
     "execution_count": 134,
     "metadata": {},
     "output_type": "execute_result"
    }
   ],
   "source": [
    "m"
   ]
  },
  {
   "cell_type": "code",
   "execution_count": 135,
   "id": "37de916a-0100-46f5-8388-ed62d199770f",
   "metadata": {},
   "outputs": [
    {
     "name": "stdout",
     "output_type": "stream",
     "text": [
      "['__and__', '__class__', '__class_getitem__', '__contains__', '__delattr__', '__dir__', '__doc__', '__eq__', '__format__', '__ge__', '__getattribute__', '__gt__', '__hash__', '__iand__', '__init__', '__init_subclass__', '__ior__', '__isub__', '__iter__', '__ixor__', '__le__', '__len__', '__lt__', '__ne__', '__new__', '__or__', '__rand__', '__reduce__', '__reduce_ex__', '__repr__', '__ror__', '__rsub__', '__rxor__', '__setattr__', '__sizeof__', '__str__', '__sub__', '__subclasshook__', '__xor__', 'add', 'clear', 'copy', 'difference', 'difference_update', 'discard', 'intersection', 'intersection_update', 'isdisjoint', 'issubset', 'issuperset', 'pop', 'remove', 'symmetric_difference', 'symmetric_difference_update', 'union', 'update']\n"
     ]
    }
   ],
   "source": [
    "print(dir(set))"
   ]
  },
  {
   "cell_type": "code",
   "execution_count": 136,
   "id": "4097f7c3-e33d-4d5c-85fa-5fd043d0c5ca",
   "metadata": {},
   "outputs": [
    {
     "name": "stdout",
     "output_type": "stream",
     "text": [
      "{4}\n",
      "{67, 4}\n"
     ]
    }
   ],
   "source": [
    "w = {4}\n",
    "print(w)\n",
    "w.add(67)\n",
    "print(w)"
   ]
  },
  {
   "cell_type": "code",
   "execution_count": 137,
   "id": "f5bd9ff9-cafb-4420-81e4-1f5300a8d250",
   "metadata": {},
   "outputs": [
    {
     "name": "stdout",
     "output_type": "stream",
     "text": [
      "{67, 4}\n"
     ]
    },
    {
     "ename": "TypeError",
     "evalue": "set.add() takes exactly one argument (2 given)",
     "output_type": "error",
     "traceback": [
      "\u001b[1;31m---------------------------------------------------------------------------\u001b[0m",
      "\u001b[1;31mTypeError\u001b[0m                                 Traceback (most recent call last)",
      "Cell \u001b[1;32mIn[137], line 2\u001b[0m\n\u001b[0;32m      1\u001b[0m \u001b[38;5;28mprint\u001b[39m(w)\n\u001b[1;32m----> 2\u001b[0m \u001b[43mw\u001b[49m\u001b[38;5;241;43m.\u001b[39;49m\u001b[43madd\u001b[49m\u001b[43m(\u001b[49m\u001b[38;5;241;43m67\u001b[39;49m\u001b[43m,\u001b[49m\u001b[38;5;124;43m\"\u001b[39;49m\u001b[38;5;124;43mLokesh\u001b[39;49m\u001b[38;5;124;43m\"\u001b[39;49m\u001b[43m)\u001b[49m\n\u001b[0;32m      3\u001b[0m \u001b[38;5;28mprint\u001b[39m(w)\n",
      "\u001b[1;31mTypeError\u001b[0m: set.add() takes exactly one argument (2 given)"
     ]
    }
   ],
   "source": [
    "print(w)\n",
    "w.add(67,\"Lokesh\")\n",
    "print(w)"
   ]
  },
  {
   "cell_type": "code",
   "execution_count": 138,
   "id": "6be902b0-8edf-492a-8814-8fe868d41798",
   "metadata": {},
   "outputs": [
    {
     "name": "stdout",
     "output_type": "stream",
     "text": [
      "{67, 4}\n"
     ]
    },
    {
     "ename": "TypeError",
     "evalue": "unhashable type: 'list'",
     "output_type": "error",
     "traceback": [
      "\u001b[1;31m---------------------------------------------------------------------------\u001b[0m",
      "\u001b[1;31mTypeError\u001b[0m                                 Traceback (most recent call last)",
      "Cell \u001b[1;32mIn[138], line 2\u001b[0m\n\u001b[0;32m      1\u001b[0m \u001b[38;5;28mprint\u001b[39m(w)\n\u001b[1;32m----> 2\u001b[0m \u001b[43mw\u001b[49m\u001b[38;5;241;43m.\u001b[39;49m\u001b[43madd\u001b[49m\u001b[43m(\u001b[49m\u001b[43m[\u001b[49m\u001b[38;5;241;43m67\u001b[39;49m\u001b[43m,\u001b[49m\u001b[38;5;124;43m\"\u001b[39;49m\u001b[38;5;124;43mLokesh\u001b[39;49m\u001b[38;5;124;43m\"\u001b[39;49m\u001b[43m]\u001b[49m\u001b[43m)\u001b[49m\n\u001b[0;32m      3\u001b[0m \u001b[38;5;28mprint\u001b[39m(w)\n",
      "\u001b[1;31mTypeError\u001b[0m: unhashable type: 'list'"
     ]
    }
   ],
   "source": [
    "print(w)\n",
    "w.add([67,\"Lokesh\"])\n",
    "print(w)"
   ]
  },
  {
   "cell_type": "code",
   "execution_count": 139,
   "id": "70c8ba2d-2aa2-4903-b1bc-7feb7f5e69d5",
   "metadata": {},
   "outputs": [
    {
     "name": "stdout",
     "output_type": "stream",
     "text": [
      "{67, 4}\n",
      "{(67, 'Lokesh'), 67, 4}\n"
     ]
    }
   ],
   "source": [
    "print(w)\n",
    "w.add((67,\"Lokesh\"))\n",
    "print(w)"
   ]
  },
  {
   "cell_type": "code",
   "execution_count": 140,
   "id": "0e1c2016-e23c-4451-b622-e94763dc0e52",
   "metadata": {},
   "outputs": [
    {
     "name": "stdout",
     "output_type": "stream",
     "text": [
      "{(67, 'Lokesh'), 67, 4}\n",
      "{'Likitha', (67, 'Lokesh'), 67, 4}\n"
     ]
    }
   ],
   "source": [
    "print(w)\n",
    "w.add(\"Likitha\")\n",
    "print(w)"
   ]
  },
  {
   "cell_type": "code",
   "execution_count": 141,
   "id": "eed9b89b-a961-4e75-9670-26e7238c7954",
   "metadata": {},
   "outputs": [
    {
     "name": "stdout",
     "output_type": "stream",
     "text": [
      "{'Likitha', (67, 'Lokesh'), 67, 4}\n",
      "{(67, 'Lokesh'), 67, 4}\n"
     ]
    }
   ],
   "source": [
    "print(w)\n",
    "w.pop()\n",
    "print(w)"
   ]
  },
  {
   "cell_type": "code",
   "execution_count": 142,
   "id": "0e75b10f-fa13-4470-8a2b-100318cea25a",
   "metadata": {},
   "outputs": [
    {
     "name": "stdout",
     "output_type": "stream",
     "text": [
      "{(67, 'Lokesh'), 67, 4}\n"
     ]
    },
    {
     "ename": "TypeError",
     "evalue": "set.pop() takes no arguments (1 given)",
     "output_type": "error",
     "traceback": [
      "\u001b[1;31m---------------------------------------------------------------------------\u001b[0m",
      "\u001b[1;31mTypeError\u001b[0m                                 Traceback (most recent call last)",
      "Cell \u001b[1;32mIn[142], line 2\u001b[0m\n\u001b[0;32m      1\u001b[0m \u001b[38;5;28mprint\u001b[39m(w)\n\u001b[1;32m----> 2\u001b[0m \u001b[43mw\u001b[49m\u001b[38;5;241;43m.\u001b[39;49m\u001b[43mpop\u001b[49m\u001b[43m(\u001b[49m\u001b[38;5;241;43m4\u001b[39;49m\u001b[43m)\u001b[49m\n\u001b[0;32m      3\u001b[0m \u001b[38;5;28mprint\u001b[39m(w)\n",
      "\u001b[1;31mTypeError\u001b[0m: set.pop() takes no arguments (1 given)"
     ]
    }
   ],
   "source": [
    "print(w)\n",
    "w.pop(4)\n",
    "print(w)"
   ]
  },
  {
   "cell_type": "code",
   "execution_count": 143,
   "id": "340edc0f-1c65-4209-985d-a1d3aec46201",
   "metadata": {},
   "outputs": [
    {
     "name": "stdout",
     "output_type": "stream",
     "text": [
      "{(67, 'Lokesh'), 67, 4}\n",
      "{(67, 'Lokesh'), 67}\n"
     ]
    }
   ],
   "source": [
    "print(w)\n",
    "w.remove(4)\n",
    "print(w)"
   ]
  },
  {
   "cell_type": "code",
   "execution_count": 144,
   "id": "4f211ee2-0a30-41eb-88d4-8afe054da23c",
   "metadata": {},
   "outputs": [
    {
     "name": "stdout",
     "output_type": "stream",
     "text": [
      "{(67, 'Lokesh'), 67}\n"
     ]
    },
    {
     "ename": "KeyError",
     "evalue": "-5",
     "output_type": "error",
     "traceback": [
      "\u001b[1;31m---------------------------------------------------------------------------\u001b[0m",
      "\u001b[1;31mKeyError\u001b[0m                                  Traceback (most recent call last)",
      "Cell \u001b[1;32mIn[144], line 2\u001b[0m\n\u001b[0;32m      1\u001b[0m \u001b[38;5;28mprint\u001b[39m(w)\n\u001b[1;32m----> 2\u001b[0m \u001b[43mw\u001b[49m\u001b[38;5;241;43m.\u001b[39;49m\u001b[43mremove\u001b[49m\u001b[43m(\u001b[49m\u001b[38;5;241;43m-\u001b[39;49m\u001b[38;5;241;43m5\u001b[39;49m\u001b[43m)\u001b[49m\n\u001b[0;32m      3\u001b[0m \u001b[38;5;28mprint\u001b[39m(w)\n",
      "\u001b[1;31mKeyError\u001b[0m: -5"
     ]
    }
   ],
   "source": [
    "print(w)\n",
    "w.remove(-5)\n",
    "print(w)"
   ]
  },
  {
   "cell_type": "code",
   "execution_count": 145,
   "id": "86d2a327-a674-4822-83cc-08c399059766",
   "metadata": {},
   "outputs": [
    {
     "name": "stdout",
     "output_type": "stream",
     "text": [
      "{56, 8, 3, 7}\n",
      "{96, 3, 7, 25, 78}\n",
      "{96, 3, 7, 8, 78, 56, 25}\n",
      "{56, 8, 3, 7}\n",
      "{96, 3, 7, 25, 78}\n"
     ]
    }
   ],
   "source": [
    "a = {3,56,7,8}\n",
    "b = {96,78,7,3,25}\n",
    "print(a)\n",
    "print(b)\n",
    "print(a.union(b))\n",
    "print(a)\n",
    "print(b)"
   ]
  },
  {
   "cell_type": "code",
   "execution_count": 146,
   "id": "aba3f988-a63b-44b9-8411-80ccbded1f7d",
   "metadata": {},
   "outputs": [
    {
     "name": "stdout",
     "output_type": "stream",
     "text": [
      "{56, 8, 3, 7}\n",
      "{96, 3, 7, 25, 78}\n",
      "{3, 7}\n",
      "{56, 8, 3, 7}\n",
      "{96, 3, 7, 25, 78}\n"
     ]
    }
   ],
   "source": [
    "print(a)\n",
    "print(b)\n",
    "print(a.intersection(b))\n",
    "print(a)\n",
    "print(b)"
   ]
  },
  {
   "cell_type": "code",
   "execution_count": 147,
   "id": "eb34f16f-11c3-4a2b-b1f9-a93d8d02a52a",
   "metadata": {},
   "outputs": [
    {
     "name": "stdout",
     "output_type": "stream",
     "text": [
      "{56, 8, 3, 7}\n",
      "{96, 3, 7, 25, 78}\n",
      "{56, 8}\n",
      "{56, 8, 3, 7}\n",
      "{96, 3, 7, 25, 78}\n"
     ]
    }
   ],
   "source": [
    "print(a)\n",
    "print(b)\n",
    "print(a.difference(b))\n",
    "print(a)\n",
    "print(b)"
   ]
  },
  {
   "cell_type": "code",
   "execution_count": 148,
   "id": "2be1bfd5-6b2c-4bf0-8da3-fcc0f70c305f",
   "metadata": {},
   "outputs": [
    {
     "name": "stdout",
     "output_type": "stream",
     "text": [
      "{56, 8, 3, 7}\n",
      "{96, 3, 7, 25, 78}\n",
      "{96, 8, 56, 25, 78}\n",
      "{56, 8, 3, 7}\n",
      "{96, 3, 7, 25, 78}\n"
     ]
    }
   ],
   "source": [
    "print(a)\n",
    "print(b)\n",
    "print(a.symmetric_difference(b))\n",
    "print(a)\n",
    "print(b)"
   ]
  },
  {
   "cell_type": "code",
   "execution_count": 149,
   "id": "207c8167-ff3e-4c80-be9d-1ac642bd2aae",
   "metadata": {},
   "outputs": [
    {
     "name": "stdout",
     "output_type": "stream",
     "text": [
      "{89, 34, 6, 7}\n",
      "{345, 12, 6, 7}\n",
      "{6, 7}\n",
      "{345, 12, 6, 7}\n"
     ]
    }
   ],
   "source": [
    "w = {34,6,7,89}\n",
    "p = {6,7,12,345}\n",
    "print(w)\n",
    "print(p)\n",
    "w.intersection_update(p)\n",
    "print(w)\n",
    "print(p)"
   ]
  },
  {
   "cell_type": "code",
   "execution_count": 150,
   "id": "490dc403-4728-4ea5-bba5-bec7fc093349",
   "metadata": {},
   "outputs": [
    {
     "name": "stdout",
     "output_type": "stream",
     "text": [
      "{678, 56, 9, 12, 345}\n",
      "{56, 9, 123, 567}\n",
      "{678, 12, 345}\n",
      "{56, 9, 123, 567}\n"
     ]
    }
   ],
   "source": [
    "z = {12,56,345,678,9}\n",
    "a = {56,9,123,567}\n",
    "print(z)\n",
    "print(a)\n",
    "z.difference_update(a)\n",
    "print(z)\n",
    "print(a)"
   ]
  },
  {
   "cell_type": "code",
   "execution_count": 151,
   "id": "9d50ac26-d202-4444-9ce8-f891e0e54c99",
   "metadata": {},
   "outputs": [
    {
     "name": "stdout",
     "output_type": "stream",
     "text": [
      "{56, 89, 3, 7}\n",
      "{89, 3, 100, 59}\n",
      "{100, 7, 56, 59}\n",
      "{89, 3, 100, 59}\n"
     ]
    }
   ],
   "source": [
    "c = {3,56,7,89}\n",
    "h = {3,89,100,59}\n",
    "print(c)\n",
    "print(h)\n",
    "c.symmetric_difference_update(h)\n",
    "print(c)\n",
    "print(h)"
   ]
  },
  {
   "cell_type": "code",
   "execution_count": 152,
   "id": "df43b211-629f-4ebd-bc92-6219d5bfd167",
   "metadata": {},
   "outputs": [
    {
     "name": "stdout",
     "output_type": "stream",
     "text": [
      "{67, 4, 5, 8, 45}\n",
      "{67, 5, 8, 45}\n"
     ]
    }
   ],
   "source": [
    "r = {45,67,8,4,5}\n",
    "print(r)\n",
    "r.discard(4)\n",
    "print(r)"
   ]
  },
  {
   "cell_type": "code",
   "execution_count": 153,
   "id": "e43c1e13-78ef-4548-9f60-302a7f730e16",
   "metadata": {},
   "outputs": [
    {
     "name": "stdout",
     "output_type": "stream",
     "text": [
      "{67, 5, 8, 45}\n"
     ]
    }
   ],
   "source": [
    "print(r)"
   ]
  },
  {
   "cell_type": "code",
   "execution_count": 154,
   "id": "c2b25272-88bb-4822-ad83-338b26346ddb",
   "metadata": {},
   "outputs": [
    {
     "name": "stdout",
     "output_type": "stream",
     "text": [
      "0 1 2 3 "
     ]
    }
   ],
   "source": [
    "for i in range(len(r)):\n",
    "    print(i,end=\" \")"
   ]
  },
  {
   "cell_type": "code",
   "execution_count": 155,
   "id": "aebbe55a-7cad-4f7c-8bd1-1fc57a27a04c",
   "metadata": {},
   "outputs": [
    {
     "name": "stdout",
     "output_type": "stream",
     "text": [
      "67 5 8 45 "
     ]
    }
   ],
   "source": [
    "for i in r:\n",
    "    print(i,end=\" \")"
   ]
  },
  {
   "cell_type": "code",
   "execution_count": 156,
   "id": "1ed58d0f-8fde-4b1b-a9de-bff43295e111",
   "metadata": {},
   "outputs": [
    {
     "name": "stdout",
     "output_type": "stream",
     "text": [
      "this is an example <class 'str'>\n"
     ]
    }
   ],
   "source": [
    "p = \"this is an example\"\n",
    "print(p,type(p))"
   ]
  },
  {
   "cell_type": "code",
   "execution_count": 159,
   "id": "28e6c3d6-de35-4d64-8850-e35c2e12a90b",
   "metadata": {},
   "outputs": [
    {
     "name": "stdout",
     "output_type": "stream",
     "text": [
      "t <class 'str'> h <class 'str'> i <class 'str'> s <class 'str'>   <class 'str'> i <class 'str'> s <class 'str'>   <class 'str'> a <class 'str'> n <class 'str'>   <class 'str'> e <class 'str'> x <class 'str'> a <class 'str'> m <class 'str'> p <class 'str'> l <class 'str'> e <class 'str'> "
     ]
    }
   ],
   "source": [
    "for i in range(len(p)):\n",
    "    print(p[i],type(p[i]),end=\" \")"
   ]
  },
  {
   "cell_type": "code",
   "execution_count": 160,
   "id": "60a8ca9d-3b7a-452f-ae00-44e743e904e7",
   "metadata": {},
   "outputs": [
    {
     "name": "stdout",
     "output_type": "stream",
     "text": [
      "t h i s   i s   a n   e x a m p l e "
     ]
    }
   ],
   "source": [
    "for i in p:\n",
    "    print(i,end=\" \")"
   ]
  },
  {
   "cell_type": "code",
   "execution_count": 161,
   "id": "733cc1ad-f1ff-4f86-91dd-6f3d775444e4",
   "metadata": {},
   "outputs": [
    {
     "name": "stdout",
     "output_type": "stream",
     "text": [
      "i\n",
      "sh\n",
      "elpmaxe na si siht\n"
     ]
    }
   ],
   "source": [
    "print(p[5])\n",
    "print(p[3::-2])\n",
    "print(p[::-1])"
   ]
  },
  {
   "cell_type": "code",
   "execution_count": 162,
   "id": "801170cb-1a52-4648-95dd-4a0ba853d169",
   "metadata": {},
   "outputs": [
    {
     "name": "stdout",
     "output_type": "stream",
     "text": [
      "['__add__', '__class__', '__contains__', '__delattr__', '__dir__', '__doc__', '__eq__', '__format__', '__ge__', '__getattribute__', '__getitem__', '__getnewargs__', '__gt__', '__hash__', '__init__', '__init_subclass__', '__iter__', '__le__', '__len__', '__lt__', '__mod__', '__mul__', '__ne__', '__new__', '__reduce__', '__reduce_ex__', '__repr__', '__rmod__', '__rmul__', '__setattr__', '__sizeof__', '__str__', '__subclasshook__', 'capitalize', 'casefold', 'center', 'count', 'encode', 'endswith', 'expandtabs', 'find', 'format', 'format_map', 'index', 'isalnum', 'isalpha', 'isascii', 'isdecimal', 'isdigit', 'isidentifier', 'islower', 'isnumeric', 'isprintable', 'isspace', 'istitle', 'isupper', 'join', 'ljust', 'lower', 'lstrip', 'maketrans', 'partition', 'removeprefix', 'removesuffix', 'replace', 'rfind', 'rindex', 'rjust', 'rpartition', 'rsplit', 'rstrip', 'split', 'splitlines', 'startswith', 'strip', 'swapcase', 'title', 'translate', 'upper', 'zfill']\n"
     ]
    }
   ],
   "source": [
    "print(dir(str))"
   ]
  },
  {
   "cell_type": "code",
   "execution_count": 163,
   "id": "8f185a41-286d-4e3f-b67f-9124ed312112",
   "metadata": {},
   "outputs": [
    {
     "name": "stdout",
     "output_type": "stream",
     "text": [
      " this is Demo eXample for String\n",
      " this is demo example for string\n",
      " this is demo example for string\n",
      " this is demo example for string\n",
      " THIS IS DEMO EXAMPLE FOR STRING\n",
      " THIS IS dEMO ExAMPLE FOR sTRING\n",
      " This Is Demo Example For String\n"
     ]
    }
   ],
   "source": [
    "g = \" this is Demo eXample for String\"\n",
    "print(g)\n",
    "print(g.capitalize())\n",
    "print(g.casefold())\n",
    "print(g.lower())\n",
    "print(g.upper())\n",
    "print(g.swapcase())\n",
    "print(g.title())"
   ]
  },
  {
   "cell_type": "code",
   "execution_count": 165,
   "id": "d02d05b6-2493-450d-881b-58d7f4d4fece",
   "metadata": {},
   "outputs": [
    {
     "name": "stdout",
     "output_type": "stream",
     "text": [
      "  Demo Example for justifications\n",
      "sample example for Justifications       \n",
      "Demo Example for justifications\n",
      "sample example for Justifications\n",
      "Demo Example for justifications\n",
      "sample example for Justifications\n",
      "00000000000000000  Demo Example for justifications\n",
      "0000000000sample example for Justifications       \n",
      "  Demo Example for justifications                      \n",
      "               sample example for Justifications       \n",
      "               Demo Example for justifications              \n",
      "          sample example for Justifications                 \n"
     ]
    }
   ],
   "source": [
    "x = \"  Demo Example for justifications\"\n",
    "v = \"sample example for Justifications       \"\n",
    "print(x)\n",
    "print(v)\n",
    "print(x.strip())\n",
    "print(v.strip())\n",
    "print(x.lstrip())\n",
    "print(v.rstrip())\n",
    "print(x.zfill(50))\n",
    "print(v.zfill(50))\n",
    "print(x.ljust(55))\n",
    "print(v.rjust(55))\n",
    "print(x.center(60))\n",
    "print(v.center(60))"
   ]
  },
  {
   "cell_type": "code",
   "execution_count": 182,
   "id": "ab162194-c5f0-4f05-a6ae-8a3dd7e9244e",
   "metadata": {},
   "outputs": [
    {
     "name": "stdout",
     "output_type": "stream",
     "text": [
      "-------------------------\n",
      "Name           |Age      |\n",
      "-------------------------\n"
     ]
    }
   ],
   "source": [
    "print('-'*25)\n",
    "print(\"Name\".ljust(15)+\"|\"+\"Age\".ljust(9)+\"|\")\n",
    "print('-'*25)"
   ]
  },
  {
   "cell_type": "code",
   "execution_count": 183,
   "id": "e50b65e7-ecce-4960-a92b-8edc44452120",
   "metadata": {},
   "outputs": [
    {
     "name": "stdout",
     "output_type": "stream",
     "text": [
      "Testing for Sample File\n",
      "['Testing for Sample File']\n",
      "['Testing', 'for', 'Sample', 'File']\n",
      "T-e-s-t-i-n-g- -f-o-r- -S-a-m-p-l-e- -F-i-l-e\n"
     ]
    }
   ],
   "source": [
    "v = \"Testing for Sample File\"\n",
    "print(v)\n",
    "print(v.splitlines())\n",
    "print(v.split())\n",
    "print(\"-\".join(v))"
   ]
  },
  {
   "cell_type": "code",
   "execution_count": 188,
   "id": "f48cec43-3e94-4d39-a5e5-16b76fe30b97",
   "metadata": {},
   "outputs": [
    {
     "name": "stdout",
     "output_type": "stream",
     "text": [
      "Ramesh is good at Teaching\n",
      "['R', 'mesh is good ', 't Te', 'ching']\n",
      "11\n",
      "19\n"
     ]
    }
   ],
   "source": [
    "k = \"Ramesh is good at Teaching\"\n",
    "print(k)\n",
    "print(k.split('a'))\n",
    "print(k.index('o'))\n",
    "print(k.rindex('e'))\n"
   ]
  },
  {
   "cell_type": "code",
   "execution_count": 189,
   "id": "b8271155-fcac-412f-b869-30ec53a57544",
   "metadata": {},
   "outputs": [
    {
     "ename": "ValueError",
     "evalue": "substring not found",
     "output_type": "error",
     "traceback": [
      "\u001b[1;31m---------------------------------------------------------------------------\u001b[0m",
      "\u001b[1;31mValueError\u001b[0m                                Traceback (most recent call last)",
      "Cell \u001b[1;32mIn[189], line 1\u001b[0m\n\u001b[1;32m----> 1\u001b[0m \u001b[38;5;28mprint\u001b[39m(\u001b[43mk\u001b[49m\u001b[38;5;241;43m.\u001b[39;49m\u001b[43mindex\u001b[49m\u001b[43m(\u001b[49m\u001b[38;5;124;43m'\u001b[39;49m\u001b[38;5;124;43mz\u001b[39;49m\u001b[38;5;124;43m'\u001b[39;49m\u001b[43m)\u001b[49m)\n",
      "\u001b[1;31mValueError\u001b[0m: substring not found"
     ]
    }
   ],
   "source": [
    "print(k.index('z'))"
   ]
  },
  {
   "cell_type": "code",
   "execution_count": 190,
   "id": "0c6b7f18-26a7-4d7c-9a8a-e3fb257b5f0c",
   "metadata": {},
   "outputs": [
    {
     "ename": "ValueError",
     "evalue": "substring not found",
     "output_type": "error",
     "traceback": [
      "\u001b[1;31m---------------------------------------------------------------------------\u001b[0m",
      "\u001b[1;31mValueError\u001b[0m                                Traceback (most recent call last)",
      "Cell \u001b[1;32mIn[190], line 1\u001b[0m\n\u001b[1;32m----> 1\u001b[0m \u001b[38;5;28mprint\u001b[39m(\u001b[43mk\u001b[49m\u001b[38;5;241;43m.\u001b[39;49m\u001b[43mrindex\u001b[49m\u001b[43m(\u001b[49m\u001b[38;5;124;43m'\u001b[39;49m\u001b[38;5;124;43mz\u001b[39;49m\u001b[38;5;124;43m'\u001b[39;49m\u001b[43m)\u001b[49m)\n",
      "\u001b[1;31mValueError\u001b[0m: substring not found"
     ]
    }
   ],
   "source": [
    "print(k.rindex('z'))"
   ]
  },
  {
   "cell_type": "code",
   "execution_count": 193,
   "id": "9c9d048d-bd9b-4e24-adce-994889ad4fdc",
   "metadata": {},
   "outputs": [
    {
     "name": "stdout",
     "output_type": "stream",
     "text": [
      "1\n",
      "20\n",
      "-1\n",
      "-1\n"
     ]
    }
   ],
   "source": [
    "print(k.find('a'))\n",
    "print(k.rfind('a'))\n",
    "print(k.find('z'))\n",
    "print(k.rfind('z'))"
   ]
  },
  {
   "cell_type": "code",
   "execution_count": 196,
   "id": "14930fac-3965-4d1a-9f66-65c11a5849e1",
   "metadata": {},
   "outputs": [
    {
     "name": "stdin",
     "output_type": "stream",
     "text": [
      " 4,89,6\n"
     ]
    },
    {
     "name": "stdout",
     "output_type": "stream",
     "text": [
      "['4', '89', '6'] <class 'list'>\n"
     ]
    }
   ],
   "source": [
    "d = input().split(\",\")\n",
    "print(d,type(d))"
   ]
  },
  {
   "cell_type": "code",
   "execution_count": 201,
   "id": "1ffd1860-c95e-41a4-8786-f300b15da905",
   "metadata": {},
   "outputs": [
    {
     "name": "stdin",
     "output_type": "stream",
     "text": [
      "Enter a number:  45\n"
     ]
    },
    {
     "name": "stdout",
     "output_type": "stream",
     "text": [
      "Reverse of 45 is: 54\n"
     ]
    }
   ],
   "source": [
    "def rvs(c):\n",
    "    t = 0\n",
    "    while c!=0:\n",
    "        t = t*10 + c%10\n",
    "        c //= 10\n",
    "    return t\n",
    "\n",
    "n = int(input(\"Enter a number: \"))\n",
    "print(f\"Reverse of {n} is: {rvs(n)}\")"
   ]
  },
  {
   "cell_type": "code",
   "execution_count": 203,
   "id": "081bd282-2077-48b8-9bd7-e2fc79c53e25",
   "metadata": {},
   "outputs": [
    {
     "name": "stdin",
     "output_type": "stream",
     "text": [
      "Enter student Name:  Prasanna\n",
      "Enter Student Age:  23\n"
     ]
    },
    {
     "name": "stdout",
     "output_type": "stream",
     "text": [
      "Entered name is: Prasanna\n",
      "Entered age is: 23\n",
      "Entered branch is: CSE\n"
     ]
    }
   ],
   "source": [
    "def student(a,c,g = \"CSE\"):\n",
    "    print(f\"Entered name is: {a}\")\n",
    "    print(f\"Entered age is: {c}\")\n",
    "    print(f\"Entered branch is: {g}\")\n",
    "    return\n",
    "\n",
    "n = input(\"Enter student Name: \")\n",
    "a = int(input(\"Enter Student Age: \"))\n",
    "student(n,a)"
   ]
  },
  {
   "cell_type": "code",
   "execution_count": 204,
   "id": "c0201532-0c8b-41fa-8a20-f648ebdbd202",
   "metadata": {},
   "outputs": [
    {
     "name": "stdin",
     "output_type": "stream",
     "text": [
      "Enter student Name:  Ramu\n",
      "Enter Student Age:  23\n",
      "Enter Student branch:  MECH\n"
     ]
    },
    {
     "name": "stdout",
     "output_type": "stream",
     "text": [
      "Entered name is: Ramu\n",
      "Entered age is: 23\n",
      "Entered branch is: MECH\n"
     ]
    }
   ],
   "source": [
    "def student(a,c,g = \"CSE\"):\n",
    "    print(f\"Entered name is: {a}\")\n",
    "    print(f\"Entered age is: {c}\")\n",
    "    print(f\"Entered branch is: {g}\")\n",
    "    return\n",
    "\n",
    "n = input(\"Enter student Name: \")\n",
    "a = int(input(\"Enter Student Age: \"))\n",
    "y = input(\"Enter Student branch: \")\n",
    "student(n,a,y)"
   ]
  },
  {
   "cell_type": "code",
   "execution_count": 205,
   "id": "5cd0eb6a-c5a1-456f-89e7-e71836911b66",
   "metadata": {},
   "outputs": [
    {
     "ename": "SyntaxError",
     "evalue": "non-default argument follows default argument (2839084207.py, line 1)",
     "output_type": "error",
     "traceback": [
      "\u001b[1;36m  Cell \u001b[1;32mIn[205], line 1\u001b[1;36m\u001b[0m\n\u001b[1;33m    def student(a,g = \"CSE\",c):\u001b[0m\n\u001b[1;37m                             ^\u001b[0m\n\u001b[1;31mSyntaxError\u001b[0m\u001b[1;31m:\u001b[0m non-default argument follows default argument\n"
     ]
    }
   ],
   "source": [
    "def student(a,g = \"CSE\",c):\n",
    "    print(f\"Entered name is: {a}\")\n",
    "    print(f\"Entered age is: {c}\")\n",
    "    print(f\"Entered branch is: {g}\")\n",
    "    return\n",
    "\n",
    "n = input(\"Enter student Name: \")\n",
    "a = int(input(\"Enter Student Age: \"))\n",
    "student(n,a)"
   ]
  },
  {
   "cell_type": "code",
   "execution_count": 207,
   "id": "1f21a583-6538-49d9-ad2b-d2f1161c43be",
   "metadata": {},
   "outputs": [
    {
     "name": "stdin",
     "output_type": "stream",
     "text": [
      "Enter Employee Name:  ganesh\n"
     ]
    },
    {
     "ename": "TypeError",
     "evalue": "employee() missing 1 required positional argument: 'e'",
     "output_type": "error",
     "traceback": [
      "\u001b[1;31m---------------------------------------------------------------------------\u001b[0m",
      "\u001b[1;31mTypeError\u001b[0m                                 Traceback (most recent call last)",
      "Cell \u001b[1;32mIn[207], line 7\u001b[0m\n\u001b[0;32m      4\u001b[0m     \u001b[38;5;28;01mreturn\u001b[39;00m\n\u001b[0;32m      6\u001b[0m nm \u001b[38;5;241m=\u001b[39m \u001b[38;5;28minput\u001b[39m(\u001b[38;5;124m\"\u001b[39m\u001b[38;5;124mEnter Employee Name: \u001b[39m\u001b[38;5;124m\"\u001b[39m)\n\u001b[1;32m----> 7\u001b[0m \u001b[43memployee\u001b[49m\u001b[43m(\u001b[49m\u001b[43mnm\u001b[49m\u001b[43m)\u001b[49m\n",
      "\u001b[1;31mTypeError\u001b[0m: employee() missing 1 required positional argument: 'e'"
     ]
    }
   ],
   "source": [
    "def employee(g,e):\n",
    "    print(f\"Entered name is: {g}\")\n",
    "    print(f\"Entered Id is: {e}\")\n",
    "    return\n",
    "\n",
    "nm = input(\"Enter Employee Name: \")\n",
    "employee(nm)"
   ]
  },
  {
   "cell_type": "code",
   "execution_count": 208,
   "id": "ba932832-778b-4062-91c8-314e5541086a",
   "metadata": {},
   "outputs": [
    {
     "name": "stdin",
     "output_type": "stream",
     "text": [
      "Enter a name:  Bharathi\n",
      "Enter Year:  2\n"
     ]
    },
    {
     "name": "stdout",
     "output_type": "stream",
     "text": [
      "Entered Year is: 2\n",
      "Entered Name is: Bharathi\n"
     ]
    }
   ],
   "source": [
    "def stdn(p,t):\n",
    "    print(f\"Entered Year is: {p}\")\n",
    "    print(f\"Entered Name is: {t}\")\n",
    "    return\n",
    "\n",
    "a = input(\"Enter a name: \")\n",
    "b = int(input(\"Enter Year: \"))\n",
    "stdn(t=a,p=b)"
   ]
  },
  {
   "cell_type": "code",
   "execution_count": 209,
   "id": "bbf6cf57-6504-4fb7-b7b0-3697cd65b977",
   "metadata": {},
   "outputs": [
    {
     "name": "stdin",
     "output_type": "stream",
     "text": [
      "Enter a name:  Lalitha\n",
      "Enter Year:  3\n"
     ]
    },
    {
     "ename": "TypeError",
     "evalue": "stdn() missing 1 required positional argument: 'z'",
     "output_type": "error",
     "traceback": [
      "\u001b[1;31m---------------------------------------------------------------------------\u001b[0m",
      "\u001b[1;31mTypeError\u001b[0m                                 Traceback (most recent call last)",
      "Cell \u001b[1;32mIn[209], line 9\u001b[0m\n\u001b[0;32m      7\u001b[0m a \u001b[38;5;241m=\u001b[39m \u001b[38;5;28minput\u001b[39m(\u001b[38;5;124m\"\u001b[39m\u001b[38;5;124mEnter a name: \u001b[39m\u001b[38;5;124m\"\u001b[39m)\n\u001b[0;32m      8\u001b[0m b \u001b[38;5;241m=\u001b[39m \u001b[38;5;28mint\u001b[39m(\u001b[38;5;28minput\u001b[39m(\u001b[38;5;124m\"\u001b[39m\u001b[38;5;124mEnter Year: \u001b[39m\u001b[38;5;124m\"\u001b[39m))\n\u001b[1;32m----> 9\u001b[0m \u001b[43mstdn\u001b[49m\u001b[43m(\u001b[49m\u001b[43mt\u001b[49m\u001b[38;5;241;43m=\u001b[39;49m\u001b[43ma\u001b[49m\u001b[43m,\u001b[49m\u001b[43mp\u001b[49m\u001b[38;5;241;43m=\u001b[39;49m\u001b[43mb\u001b[49m\u001b[43m)\u001b[49m\n",
      "\u001b[1;31mTypeError\u001b[0m: stdn() missing 1 required positional argument: 'z'"
     ]
    }
   ],
   "source": [
    "def stdn(z,p,t):\n",
    "    print(f\"Entered Year is: {p}\")\n",
    "    print(f\"Entered Name is: {t}\")\n",
    "    print(f\"College Name is: {z}\")\n",
    "    return\n",
    "\n",
    "a = input(\"Enter a name: \")\n",
    "b = int(input(\"Enter Year: \"))\n",
    "stdn(t=a,p=b)"
   ]
  },
  {
   "cell_type": "code",
   "execution_count": 210,
   "id": "ba5a795b-63fa-434e-90d0-fe0e77ee6dbf",
   "metadata": {},
   "outputs": [
    {
     "name": "stdin",
     "output_type": "stream",
     "text": [
      "Enter a name:  Varun\n",
      "Enter Year:  3\n",
      "Enter College Name:  KEC\n"
     ]
    },
    {
     "ename": "TypeError",
     "evalue": "stdn() got an unexpected keyword argument 'k'",
     "output_type": "error",
     "traceback": [
      "\u001b[1;31m---------------------------------------------------------------------------\u001b[0m",
      "\u001b[1;31mTypeError\u001b[0m                                 Traceback (most recent call last)",
      "Cell \u001b[1;32mIn[210], line 10\u001b[0m\n\u001b[0;32m      8\u001b[0m b \u001b[38;5;241m=\u001b[39m \u001b[38;5;28mint\u001b[39m(\u001b[38;5;28minput\u001b[39m(\u001b[38;5;124m\"\u001b[39m\u001b[38;5;124mEnter Year: \u001b[39m\u001b[38;5;124m\"\u001b[39m))\n\u001b[0;32m      9\u001b[0m q \u001b[38;5;241m=\u001b[39m \u001b[38;5;28minput\u001b[39m(\u001b[38;5;124m\"\u001b[39m\u001b[38;5;124mEnter College Name: \u001b[39m\u001b[38;5;124m\"\u001b[39m)\n\u001b[1;32m---> 10\u001b[0m \u001b[43mstdn\u001b[49m\u001b[43m(\u001b[49m\u001b[43mt\u001b[49m\u001b[38;5;241;43m=\u001b[39;49m\u001b[43ma\u001b[49m\u001b[43m,\u001b[49m\u001b[43mp\u001b[49m\u001b[38;5;241;43m=\u001b[39;49m\u001b[43mb\u001b[49m\u001b[43m,\u001b[49m\u001b[43mk\u001b[49m\u001b[38;5;241;43m=\u001b[39;49m\u001b[43mq\u001b[49m\u001b[43m)\u001b[49m\n",
      "\u001b[1;31mTypeError\u001b[0m: stdn() got an unexpected keyword argument 'k'"
     ]
    }
   ],
   "source": [
    "def stdn(z,p,t):\n",
    "    print(f\"Entered Year is: {p}\")\n",
    "    print(f\"Entered Name is: {t}\")\n",
    "    print(f\"College Name is: {z}\")\n",
    "    return\n",
    "\n",
    "a = input(\"Enter a name: \")\n",
    "b = int(input(\"Enter Year: \"))\n",
    "q = input(\"Enter College Name: \")\n",
    "stdn(t=a,p=b,k=q)"
   ]
  },
  {
   "cell_type": "code",
   "execution_count": 211,
   "id": "b38ea36f-8989-476c-9005-3382bbd03a63",
   "metadata": {},
   "outputs": [
    {
     "name": "stdout",
     "output_type": "stream",
     "text": [
      "23 <class 'int'>\n",
      "(56, 7, 89, False, 'Harish') <class 'tuple'>\n"
     ]
    }
   ],
   "source": [
    "def gy(q,*y):\n",
    "    print(q,type(q))\n",
    "    print(y,type(y))\n",
    "    return\n",
    "\n",
    "gy(23,56,7,89,False,\"Harish\")"
   ]
  },
  {
   "cell_type": "code",
   "execution_count": 214,
   "id": "6239926b-2556-41f3-acfe-e26317ff782a",
   "metadata": {},
   "outputs": [
    {
     "name": "stdout",
     "output_type": "stream",
     "text": [
      "23 <class 'int'>\n",
      "(56, 7, 89, False, 'Harish') <class 'tuple'>\n",
      "{'name': 'Yogesh', 'age': 45} <class 'dict'>\n"
     ]
    }
   ],
   "source": [
    "def gy(q,*y,**e):\n",
    "    print(q,type(q))\n",
    "    print(y,type(y))\n",
    "    print(e,type(e))\n",
    "    return\n",
    "\n",
    "gy(23,56,7,89,False,\"Harish\",name=\"Yogesh\",age=45)"
   ]
  },
  {
   "cell_type": "code",
   "execution_count": 215,
   "id": "7eda4445-5b33-4d92-8a68-441ea12c0c85",
   "metadata": {},
   "outputs": [
    {
     "ename": "SyntaxError",
     "evalue": "positional argument follows keyword argument (1173113825.py, line 7)",
     "output_type": "error",
     "traceback": [
      "\u001b[1;36m  Cell \u001b[1;32mIn[215], line 7\u001b[1;36m\u001b[0m\n\u001b[1;33m    gy(gender=\"Male\",23,56,7,89,False,\"Harish\",name=\"Yogesh\",age=45)\u001b[0m\n\u001b[1;37m                                                                   ^\u001b[0m\n\u001b[1;31mSyntaxError\u001b[0m\u001b[1;31m:\u001b[0m positional argument follows keyword argument\n"
     ]
    }
   ],
   "source": [
    "def gy(q,*y,**e):\n",
    "    print(q,type(q))\n",
    "    print(y,type(y))\n",
    "    print(e,type(e))\n",
    "    return\n",
    "\n",
    "gy(gender=\"Male\",23,56,7,89,False,\"Harish\",name=\"Yogesh\",age=45)"
   ]
  },
  {
   "cell_type": "markdown",
   "id": "8c7dbc5d-13d5-4eb4-9ab1-a8c22b44cc85",
   "metadata": {},
   "source": [
    "```\n",
    "1. Create User\n",
    "2. Update User number\n",
    "3. Delete User\n",
    "4. Display All\n",
    "5. Display Particular user\n",
    "6. Exit\n",
    "```"
   ]
  },
  {
   "cell_type": "code",
   "execution_count": null,
   "id": "6859c0cc-6fe1-458c-a14d-9d35b8d488ef",
   "metadata": {},
   "outputs": [],
   "source": []
  }
 ],
 "metadata": {
  "kernelspec": {
   "display_name": "Python 3 (ipykernel)",
   "language": "python",
   "name": "python3"
  },
  "language_info": {
   "codemirror_mode": {
    "name": "ipython",
    "version": 3
   },
   "file_extension": ".py",
   "mimetype": "text/x-python",
   "name": "python",
   "nbconvert_exporter": "python",
   "pygments_lexer": "ipython3",
   "version": "3.9.6"
  }
 },
 "nbformat": 4,
 "nbformat_minor": 5
}
