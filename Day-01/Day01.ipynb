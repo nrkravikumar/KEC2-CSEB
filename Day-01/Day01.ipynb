{
 "cells": [
  {
   "cell_type": "markdown",
   "id": "1287f8ab-89a2-48bb-8183-72c14c050b85",
   "metadata": {},
   "source": [
    "# Python Basics:"
   ]
  },
  {
   "cell_type": "code",
   "execution_count": 1,
   "id": "41549f67-7284-44fb-bbb2-1a7a6d766f12",
   "metadata": {},
   "outputs": [
    {
     "name": "stdout",
     "output_type": "stream",
     "text": [
      "20 45.021\n"
     ]
    }
   ],
   "source": [
    "w = 20\n",
    "g = 45.021\n",
    "print(w,g)"
   ]
  },
  {
   "cell_type": "code",
   "execution_count": 2,
   "id": "c6a8fe59-cc8a-417e-9d2d-dd6ae5bbe59b",
   "metadata": {},
   "outputs": [
    {
     "name": "stdout",
     "output_type": "stream",
     "text": [
      "1 23.0 True (4+6j)\n"
     ]
    }
   ],
   "source": [
    "a,b,c,d = 1,23.0,True,4+6j\n",
    "print(a,b,c,d)"
   ]
  },
  {
   "cell_type": "code",
   "execution_count": 3,
   "id": "25223719-d30c-4bf6-ab44-f88914ee71ba",
   "metadata": {},
   "outputs": [
    {
     "name": "stdout",
     "output_type": "stream",
     "text": [
      "150 150 150\n"
     ]
    }
   ],
   "source": [
    "e = f = g = 150\n",
    "print(e,f,g)"
   ]
  },
  {
   "cell_type": "code",
   "execution_count": 4,
   "id": "cf3a965b-b604-4604-b572-1942758a57f7",
   "metadata": {},
   "outputs": [
    {
     "name": "stdout",
     "output_type": "stream",
     "text": [
      "(4, 56.0121, False)\n"
     ]
    }
   ],
   "source": [
    "s = 4,56.0121,False\n",
    "print(s)"
   ]
  },
  {
   "cell_type": "code",
   "execution_count": 5,
   "id": "82820bb0-fab0-4b0f-aef2-1f8401038cc4",
   "metadata": {},
   "outputs": [
    {
     "ename": "ValueError",
     "evalue": "too many values to unpack (expected 2)",
     "output_type": "error",
     "traceback": [
      "\u001b[1;31m---------------------------------------------------------------------------\u001b[0m",
      "\u001b[1;31mValueError\u001b[0m                                Traceback (most recent call last)",
      "Cell \u001b[1;32mIn[5], line 1\u001b[0m\n\u001b[1;32m----> 1\u001b[0m b,n \u001b[38;5;241m=\u001b[39m \u001b[38;5;241m45\u001b[39m,\u001b[38;5;241m26.000\u001b[39m,\u001b[38;5;124m\"\u001b[39m\u001b[38;5;124mKiran\u001b[39m\u001b[38;5;124m\"\u001b[39m\n\u001b[0;32m      2\u001b[0m \u001b[38;5;28mprint\u001b[39m(b,n)\n",
      "\u001b[1;31mValueError\u001b[0m: too many values to unpack (expected 2)"
     ]
    }
   ],
   "source": [
    "b,n = 45,26.000,\"Kiran\"\n",
    "print(b,n)"
   ]
  },
  {
   "cell_type": "code",
   "execution_count": 7,
   "id": "eabbad8b-cd4f-4403-b5e9-11af23958a5c",
   "metadata": {},
   "outputs": [
    {
     "ename": "ValueError",
     "evalue": "not enough values to unpack (expected 4, got 3)",
     "output_type": "error",
     "traceback": [
      "\u001b[1;31m---------------------------------------------------------------------------\u001b[0m",
      "\u001b[1;31mValueError\u001b[0m                                Traceback (most recent call last)",
      "Cell \u001b[1;32mIn[7], line 1\u001b[0m\n\u001b[1;32m----> 1\u001b[0m b,n,k,p \u001b[38;5;241m=\u001b[39m \u001b[38;5;241m45\u001b[39m,\u001b[38;5;241m26.000\u001b[39m,\u001b[38;5;124m\"\u001b[39m\u001b[38;5;124mKiran\u001b[39m\u001b[38;5;124m\"\u001b[39m\n\u001b[0;32m      2\u001b[0m \u001b[38;5;28mprint\u001b[39m(b,n,k,p)\n",
      "\u001b[1;31mValueError\u001b[0m: not enough values to unpack (expected 4, got 3)"
     ]
    }
   ],
   "source": [
    "b,n,k,p = 45,26.000,\"Kiran\"\n",
    "print(b,n,k,p)"
   ]
  },
  {
   "cell_type": "code",
   "execution_count": 2,
   "id": "45c07f5b-1874-445b-a1a9-de2581ce751d",
   "metadata": {},
   "outputs": [
    {
     "name": "stdin",
     "output_type": "stream",
     "text": [
      "Enter a value:  4\n",
      "Enter b value:  23.0\n"
     ]
    },
    {
     "name": "stdout",
     "output_type": "stream",
     "text": [
      "4 <class 'str'>\n",
      "23.0 <class 'str'>\n"
     ]
    }
   ],
   "source": [
    "a = input(\"Enter a value: \")\n",
    "b = input(\"Enter b value: \")\n",
    "print(a,type(a))\n",
    "print(b,type(b))"
   ]
  },
  {
   "cell_type": "code",
   "execution_count": null,
   "id": "f175d498-1584-4f29-b7b4-e344e010453e",
   "metadata": {},
   "outputs": [],
   "source": [
    "z = \"Kiran\"\n",
    "print(z)"
   ]
  },
  {
   "cell_type": "code",
   "execution_count": 3,
   "id": "43f6e37e-3882-4aa5-b148-c6d1edfe2d4a",
   "metadata": {},
   "outputs": [
    {
     "name": "stdin",
     "output_type": "stream",
     "text": [
      "Enter a value:  5\n",
      "Enter b value:  8\n"
     ]
    },
    {
     "name": "stdout",
     "output_type": "stream",
     "text": [
      "5 <class 'int'>\n",
      "8 <class 'int'>\n"
     ]
    }
   ],
   "source": [
    "a = int(input(\"Enter a value: \"))\n",
    "b = int(input(\"Enter b value: \"))\n",
    "print(a,type(a))\n",
    "print(b,type(b))"
   ]
  },
  {
   "cell_type": "markdown",
   "id": "2868afca-c80c-4f1e-bd54-e701dffa1dce",
   "metadata": {},
   "source": [
    "```\n",
    "Input:\n",
    "    45\n",
    "    23\n",
    "Output:\n",
    "    Entered numbers are: 45,23\n",
    "    Entered numbers are: '45',23\n",
    "    Entered First number is: '45'\n",
    "    Entered Second number is: '23'\n",
    "```"
   ]
  },
  {
   "cell_type": "code",
   "execution_count": 4,
   "id": "8da5c578-a503-4973-8ee8-94690ffb3656",
   "metadata": {},
   "outputs": [
    {
     "name": "stdin",
     "output_type": "stream",
     "text": [
      " 2\n",
      " 6\n"
     ]
    },
    {
     "name": "stdout",
     "output_type": "stream",
     "text": [
      "Entered numbers are: 2,6\n",
      "Entered numbers are: '2',6\n",
      "Entered First number is: '2'\n",
      "Entered Second number is: '6'\n"
     ]
    }
   ],
   "source": [
    "a = int(input())\n",
    "b = int(input())\n",
    "print(f\"Entered numbers are: {a},{b}\")\n",
    "print(f\"Entered numbers are: '{a}',{b}\")\n",
    "print(f\"Entered First number is: '{a}'\")\n",
    "print(f\"Entered Second number is: '{b}'\")"
   ]
  },
  {
   "cell_type": "code",
   "execution_count": null,
   "id": "b17bf084-ac64-4a95-bcaf-66cdcad7de85",
   "metadata": {},
   "outputs": [],
   "source": []
  }
 ],
 "metadata": {
  "kernelspec": {
   "display_name": "Python 3 (ipykernel)",
   "language": "python",
   "name": "python3"
  },
  "language_info": {
   "codemirror_mode": {
    "name": "ipython",
    "version": 3
   },
   "file_extension": ".py",
   "mimetype": "text/x-python",
   "name": "python",
   "nbconvert_exporter": "python",
   "pygments_lexer": "ipython3",
   "version": "3.9.6"
  }
 },
 "nbformat": 4,
 "nbformat_minor": 5
}
